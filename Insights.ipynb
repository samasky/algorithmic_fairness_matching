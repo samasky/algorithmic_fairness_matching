{
 "cells": [
  {
   "cell_type": "code",
   "execution_count": 4,
   "metadata": {},
   "outputs": [],
   "source": [
    "import pandas as pd\n",
    "import matplotlib.pyplot as plt\n",
    "%matplotlib inline\n",
    "import numpy as np"
   ]
  },
  {
   "cell_type": "code",
   "execution_count": 6,
   "metadata": {},
   "outputs": [],
   "source": [
    "## Load orignal data and matched data\n",
    "data_white = pd.read_pickle(r\"data_white.pkl\")\n",
    "data_black = pd.read_pickle(r\"data_black.pkl\")"
   ]
  },
  {
   "cell_type": "code",
   "execution_count": 7,
   "metadata": {},
   "outputs": [
    {
     "name": "stdout",
     "output_type": "stream",
     "text": [
      "White population size: 2824322.\n",
      "Black population size: 362652.\n"
     ]
    }
   ],
   "source": [
    "print(f\"White population size: {data_white.shape[0]}.\")\n",
    "print(f\"Black population size: {data_black.shape[0]}.\")"
   ]
  },
  {
   "cell_type": "code",
   "execution_count": 1,
   "metadata": {},
   "outputs": [
    {
     "data": {
      "text/plain": [
       "3186974"
      ]
     },
     "execution_count": 1,
     "metadata": {},
     "output_type": "execute_result"
    }
   ],
   "source": [
    "2824322+ 362652"
   ]
  },
  {
   "cell_type": "code",
   "execution_count": 2,
   "metadata": {},
   "outputs": [
    {
     "data": {
      "text/plain": [
       "22.296173044925123"
      ]
     },
     "execution_count": 2,
     "metadata": {},
     "output_type": "execute_result"
    }
   ],
   "source": [
    "13.4/60.1*100"
   ]
  },
  {
   "cell_type": "code",
   "execution_count": 3,
   "metadata": {},
   "outputs": [
    {
     "data": {
      "text/plain": [
       "12.840320615000698"
      ]
     },
     "execution_count": 3,
     "metadata": {},
     "output_type": "execute_result"
    }
   ],
   "source": [
    "100*362652/2824322"
   ]
  },
  {
   "cell_type": "markdown",
   "metadata": {},
   "source": [
    " **Black/White** in the population: 22.3% , [source](https://www.census.gov/quickfacts/fact/table/US/PST045219)\n",
    "\n",
    "**Black/White** in the mortgage application: 12.8%"
   ]
  },
  {
   "cell_type": "code",
   "execution_count": 5,
   "metadata": {},
   "outputs": [
    {
     "name": "stderr",
     "output_type": "stream",
     "text": [
      "/opt/anaconda3/lib/python3.8/site-packages/IPython/core/interactiveshell.py:3165: DtypeWarning: Columns (10,12) have mixed types.Specify dtype option on import or set low_memory=False.\n",
      "  has_raised = await self.run_ast_nodes(code_ast.body, cell_name,\n"
     ]
    }
   ],
   "source": [
    "matched_data = pd.read_csv(r\"matched_type.csv\")"
   ]
  },
  {
   "cell_type": "code",
   "execution_count": 8,
   "metadata": {},
   "outputs": [],
   "source": [
    "data_black['action_taken']= data_black['action_taken'].replace(3,0)\n",
    "# action_taken=3 is denied in original dataset, we replace 3 with 0 "
   ]
  },
  {
   "cell_type": "code",
   "execution_count": 9,
   "metadata": {},
   "outputs": [],
   "source": [
    "data_white['action_taken']= data_white['action_taken'].replace(3,0)"
   ]
  },
  {
   "cell_type": "code",
   "execution_count": 11,
   "metadata": {},
   "outputs": [],
   "source": [
    "data_org = pd.concat([data_white,data_black])"
   ]
  },
  {
   "cell_type": "code",
   "execution_count": 12,
   "metadata": {},
   "outputs": [],
   "source": [
    "matched_data['action_taken']= matched_data['action_taken'].replace(3,0)"
   ]
  },
  {
   "cell_type": "code",
   "execution_count": 13,
   "metadata": {},
   "outputs": [
    {
     "data": {
      "text/plain": [
       "0.7667653838942016"
      ]
     },
     "execution_count": 13,
     "metadata": {},
     "output_type": "execute_result"
    }
   ],
   "source": [
    "data_black['action_taken'].mean()"
   ]
  },
  {
   "cell_type": "code",
   "execution_count": 14,
   "metadata": {},
   "outputs": [
    {
     "data": {
      "text/plain": [
       "0.8978746049494356"
      ]
     },
     "execution_count": 14,
     "metadata": {},
     "output_type": "execute_result"
    }
   ],
   "source": [
    "data_white['action_taken'].mean()"
   ]
  },
  {
   "cell_type": "code",
   "execution_count": 15,
   "metadata": {},
   "outputs": [
    {
     "data": {
      "text/plain": [
       "0.8829554304490718"
      ]
     },
     "execution_count": 15,
     "metadata": {},
     "output_type": "execute_result"
    }
   ],
   "source": [
    "data_org['action_taken'].mean()"
   ]
  },
  {
   "cell_type": "code",
   "execution_count": 16,
   "metadata": {},
   "outputs": [
    {
     "data": {
      "text/plain": [
       "0.8084852229430542"
      ]
     },
     "execution_count": 16,
     "metadata": {},
     "output_type": "execute_result"
    }
   ],
   "source": [
    "matched_data['action_taken'].mean()"
   ]
  },
  {
   "cell_type": "code",
   "execution_count": 17,
   "metadata": {},
   "outputs": [
    {
     "data": {
      "text/plain": [
       "3    339885\n",
       "5    339885\n",
       "Name: applicant_race-1, dtype: int64"
      ]
     },
     "execution_count": 17,
     "metadata": {},
     "output_type": "execute_result"
    }
   ],
   "source": [
    "matched_data['applicant_race-1'].value_counts()"
   ]
  },
  {
   "cell_type": "code",
   "execution_count": 18,
   "metadata": {},
   "outputs": [
    {
     "data": {
      "text/plain": [
       "0.7821763243449991"
      ]
     },
     "execution_count": 18,
     "metadata": {},
     "output_type": "execute_result"
    }
   ],
   "source": [
    "matched_data[matched_data['applicant_race-1']==3]['action_taken'].mean()\n",
    "# applicant_race-1=3 is black"
   ]
  },
  {
   "cell_type": "code",
   "execution_count": 19,
   "metadata": {},
   "outputs": [
    {
     "data": {
      "text/plain": [
       "0.8347941215411095"
      ]
     },
     "execution_count": 19,
     "metadata": {},
     "output_type": "execute_result"
    }
   ],
   "source": [
    "matched_data[matched_data['applicant_race-1']==5]['action_taken'].mean()\n",
    "# applicant_race-1=5 is white"
   ]
  },
  {
   "cell_type": "code",
   "execution_count": 32,
   "metadata": {},
   "outputs": [
    {
     "data": {
      "image/png": "[encoded data removed]",
      "text/plain": [
       "<Figure size 432x288 with 1 Axes>"
      ]
     },
     "metadata": {
      "needs_background": "light"
     },
     "output_type": "display_data"
    }
   ],
   "source": [
    "x = np.array([1,2])\n",
    "\n",
    "y = np.array([83.5,89.8])\n",
    "z = np.array([78.2,76.7])\n",
    "\n",
    "plt.bar(x-0.1, y, width=0.2, color='b', align='center')\n",
    "plt.bar(x+0.1, z, width=0.2, color='g', align='center')\n",
    "plt.ylim([50, 100])\n",
    "plt.legend(( 'White', 'Black'))\n",
    "plt.xticks([1, 2], ['Matched', 'Original'] )\n",
    "plt.ylabel('Mortgage Approval Rate')\n",
    "plt.text(x[0]-0.15, y[0]+1, f\"{y[0]:.1f}\")\n",
    "plt.text(x[1]-0.15, y[1]+1, f\"{y[1]:.1f}\")\n",
    "plt.text(x[0]+0.05, z[0]+1, f\"{z[0]:.1f}\")\n",
    "plt.text(x[1]+0.05, z[1]+1, f\"{z[1]:.1f}\")\n",
    "plt.tight_layout()\n",
    "plt.savefig('mortgage_approval_rates.pdf')"
   ]
  },
  {
   "cell_type": "markdown",
   "metadata": {},
   "source": [
    "**These two numbers indicates that in similar cases, unless the race is different, the mean approval rate is by far different between races.** "
   ]
  },
  {
   "cell_type": "code",
   "execution_count": 32,
   "metadata": {},
   "outputs": [
    {
     "data": {
      "text/plain": [
       "Index(['state_code', 'conforming_loan_limit', 'action_taken', 'purchaser_type',\n",
       "       'loan_type', 'lien_status', 'open-end_line_of_credit', 'loan_amount',\n",
       "       'loan_to_value_ratio', 'interest_rate', 'occupancy_type', 'total_units',\n",
       "       'income', 'debt_to_income_ratio', 'applicant_credit_score_type',\n",
       "       'co-applicant_credit_score_type', 'applicant_ethnicity-1',\n",
       "       'co-applicant_ethnicity-1', 'applicant_race-1', 'applicant_race-2',\n",
       "       'co-applicant_race-1', 'applicant_sex', 'co-applicant_sex',\n",
       "       'applicant_age', 'tract_minority_population_percent',\n",
       "       'ffiec_msa_md_median_family_income', 'tract_to_msa_income_percentage',\n",
       "       'tract_owner_occupied_units', 'tract_one_to_four_family_homes',\n",
       "       'tract_median_age_of_housing_units'],\n",
       "      dtype='object')"
      ]
     },
     "execution_count": 32,
     "metadata": {},
     "output_type": "execute_result"
    }
   ],
   "source": [
    "data_org.columns"
   ]
  },
  {
   "cell_type": "code",
   "execution_count": 26,
   "metadata": {},
   "outputs": [
    {
     "data": {
      "text/plain": [
       "<AxesSubplot:>"
      ]
     },
     "execution_count": 26,
     "metadata": {},
     "output_type": "execute_result"
    },
    {
     "data": {
      "image/png": "[encoded data removed]",
      "text/plain": [
       "<Figure size 432x288 with 1 Axes>"
      ]
     },
     "metadata": {
      "needs_background": "light"
     },
     "output_type": "display_data"
    }
   ],
   "source": [
    "pd.to_numeric(data_org['interest_rate'], errors='coerce').clip(0, 10).hist(density= True,bins=50)\n",
    "#Coerce= if that is not numeric change it to NaN\n",
    "#bins=50 -> intrest rate in 50 buckets\n",
    "#density= True -> normalize with respect to datapoints in each category"
   ]
  },
  {
   "cell_type": "code",
   "execution_count": 27,
   "metadata": {},
   "outputs": [
    {
     "data": {
      "text/plain": [
       "<AxesSubplot:>"
      ]
     },
     "execution_count": 27,
     "metadata": {},
     "output_type": "execute_result"
    },
    {
     "data": {
      "image/png": "[encoded data removed]",
      "text/plain": [
       "<Figure size 432x288 with 1 Axes>"
      ]
     },
     "metadata": {
      "needs_background": "light"
     },
     "output_type": "display_data"
    }
   ],
   "source": [
    "pd.to_numeric(data_white['interest_rate'], errors='coerce').clip(0, 10).hist(density=True,bins=50)\n",
    "pd.to_numeric(data_black['interest_rate'], errors='coerce').clip(0, 10).hist(density=True, bins=50,alpha=0.5)"
   ]
  },
  {
   "cell_type": "code",
   "execution_count": 29,
   "metadata": {},
   "outputs": [
    {
     "name": "stdout",
     "output_type": "stream",
     "text": [
      "The mean intrest rate for White Population in original dataset is 4.253866448439574\n",
      "The mean intrest rate for Black Population in original dataset is 4.368998237161029\n"
     ]
    }
   ],
   "source": [
    "print(\"The mean intrest rate for White Population in original dataset is\", pd.to_numeric(data_white['interest_rate'], errors='coerce').clip(0, 10).mean())\n",
    "print(\"The mean intrest rate for Black Population in original dataset is\",pd.to_numeric(data_black['interest_rate'], errors='coerce').clip(0, 10).mean())"
   ]
  },
  {
   "cell_type": "code",
   "execution_count": 36,
   "metadata": {},
   "outputs": [],
   "source": [
    "## Find the average loan approval for black and white applicants in both datasets"
   ]
  },
  {
   "cell_type": "code",
   "execution_count": 33,
   "metadata": {},
   "outputs": [
    {
     "data": {
      "text/plain": [
       "<AxesSubplot:>"
      ]
     },
     "execution_count": 33,
     "metadata": {},
     "output_type": "execute_result"
    },
    {
     "data": {
      "image/png": "[encoded data removed]",
      "text/plain": [
       "<Figure size 432x288 with 1 Axes>"
      ]
     },
     "metadata": {
      "needs_background": "light"
     },
     "output_type": "display_data"
    }
   ],
   "source": [
    "pd.to_numeric(matched_data[matched_data['applicant_race-1']==3]['interest_rate'], errors='coerce').clip(0, 10).hist(density=True, bins=50)\n",
    "pd.to_numeric(matched_data[matched_data['applicant_race-1']==5]['interest_rate'], errors='coerce').clip(0, 10).hist(density=True, bins=50,alpha=0.5)\n"
   ]
  },
  {
   "cell_type": "code",
   "execution_count": 21,
   "metadata": {},
   "outputs": [
    {
     "name": "stdout",
     "output_type": "stream",
     "text": [
      "The mean intrest rate for Black Population in the matched data is 4.492560360509767\n",
      "The mean intrest rate for white Population in the matched data is 4.584308267133045\n"
     ]
    }
   ],
   "source": [
    "print(\"The mean intrest rate for Black Population in the matched data is\",\n",
    "      pd.to_numeric(matched_data[matched_data['applicant_race-1']==3]['interest_rate'], errors='coerce').mean())\n",
    "print(\"The mean intrest rate for white Population in the matched data is\",\n",
    "      pd.to_numeric(matched_data[matched_data['applicant_race-1']==5]['interest_rate'], errors='coerce').mean())"
   ]
  },
  {
   "cell_type": "code",
   "execution_count": 33,
   "metadata": {},
   "outputs": [
    {
     "data": {
      "image/png": "[encoded data removed]",
      "text/plain": [
       "<Figure size 432x288 with 1 Axes>"
      ]
     },
     "metadata": {
      "needs_background": "light"
     },
     "output_type": "display_data"
    }
   ],
   "source": [
    "x = np.array([1,2])\n",
    "\n",
    "y = np.array([4.58,4.49])\n",
    "z = np.array([4.54,4.37])\n",
    "\n",
    "\n",
    "\n",
    "plt.bar(x-0.1, y, width=0.2, color='b', align='center')\n",
    "plt.bar(x+0.1, z, width=0.2, color='g', align='center')\n",
    "plt.ylim([4, 5])\n",
    "plt.legend(( 'White', 'Black'))\n",
    "plt.xticks([1, 2], ['Matched', 'Original'] )\n",
    "plt.ylabel('Interest Rate')\n",
    "plt.text(x[0]-0.15, y[0]+0.03, f\"{y[0]:.2f}\")\n",
    "plt.text(x[1]-0.15, y[1]+0.03, f\"{y[1]:.2f}\")\n",
    "plt.text(x[0]+0.05, z[0]+0.03, f\"{z[0]:.2f}\")\n",
    "plt.text(x[1]+0.05, z[1]+0.03, f\"{z[1]:.2f}\")\n",
    "plt.tight_layout()\n",
    "plt.savefig('Interest_rates.pdf')"
   ]
  }
 ],
 "metadata": {
  "kernelspec": {
   "display_name": "Python 3",
   "language": "python",
   "name": "python3"
  },
  "language_info": {
   "codemirror_mode": {
    "name": "ipython",
    "version": 3
   },
   "file_extension": ".py",
   "mimetype": "text/x-python",
   "name": "python",
   "nbconvert_exporter": "python",
   "pygments_lexer": "ipython3",
   "version": "3.7.4"
  }
 },
 "nbformat": 4,
 "nbformat_minor": 4
}
