{
 "cells": [
  {
   "cell_type": "code",
   "execution_count": 1,
   "metadata": {},
   "outputs": [],
   "source": [
    "import pandas as pd\n",
    "import matplotlib.pyplot as plt\n",
    "%matplotlib inline\n",
    "import numpy as np\n",
    "from patsy import dmatrices\n",
    "import statsmodels.api as sm"
   ]
  },
  {
   "cell_type": "code",
   "execution_count": 2,
   "metadata": {},
   "outputs": [],
   "source": [
    "# Load orignal data and matched data\n",
    "data_white = pd.read_pickle(r\"data_white.pkl\")\n",
    "data_black = pd.read_pickle(r\"data_black.pkl\")"
   ]
  },
  {
   "cell_type": "code",
   "execution_count": 3,
   "metadata": {},
   "outputs": [
    {
     "name": "stderr",
     "output_type": "stream",
     "text": [
      "/opt/anaconda3/lib/python3.8/site-packages/IPython/core/interactiveshell.py:3165: DtypeWarning: Columns (10,12) have mixed types.Specify dtype option on import or set low_memory=False.\n",
      "  has_raised = await self.run_ast_nodes(code_ast.body, cell_name,\n"
     ]
    }
   ],
   "source": [
    "matched_data = pd.read_csv(r\"matched_type.csv\")\n"
   ]
  },
  {
   "cell_type": "code",
   "execution_count": 4,
   "metadata": {},
   "outputs": [],
   "source": [
    "data_org = pd.concat([data_white,data_black])"
   ]
  },
  {
   "cell_type": "code",
   "execution_count": null,
   "metadata": {},
   "outputs": [],
   "source": [
    "data_white.shape"
   ]
  },
  {
   "cell_type": "code",
   "execution_count": null,
   "metadata": {},
   "outputs": [],
   "source": [
    "data_black.shape"
   ]
  },
  {
   "cell_type": "code",
   "execution_count": null,
   "metadata": {},
   "outputs": [],
   "source": [
    "data_org.shape"
   ]
  },
  {
   "cell_type": "code",
   "execution_count": null,
   "metadata": {},
   "outputs": [],
   "source": [
    "matched_data.shape"
   ]
  },
  {
   "cell_type": "code",
   "execution_count": null,
   "metadata": {},
   "outputs": [],
   "source": [
    "data_org.columns"
   ]
  },
  {
   "cell_type": "code",
   "execution_count": null,
   "metadata": {},
   "outputs": [],
   "source": []
  },
  {
   "cell_type": "markdown",
   "metadata": {},
   "source": [
    "**columns to use**\n",
    "\n",
    "state_code,\n",
    "action_taken,\n",
    "lien_status,\n",
    "loan_amount,\n",
    "loan_to_value_ratio,\n",
    "interest_rate,\n",
    "income,\n",
    "debt_to_income_ratio,\n",
    "applicant_race-1,\n",
    "applicant_sex,\n",
    "applicant_age,\n"
   ]
  },
  {
   "cell_type": "markdown",
   "metadata": {},
   "source": [
    "## State"
   ]
  },
  {
   "cell_type": "code",
   "execution_count": null,
   "metadata": {},
   "outputs": [],
   "source": [
    "data_org['state_code'].value_counts()"
   ]
  },
  {
   "cell_type": "markdown",
   "metadata": {},
   "source": [
    "## lien status\n",
    "1. first lien\n",
    "2. subordinate lien"
   ]
  },
  {
   "cell_type": "code",
   "execution_count": null,
   "metadata": {},
   "outputs": [],
   "source": [
    "data_org['lien_status'].value_counts()"
   ]
  },
  {
   "cell_type": "markdown",
   "metadata": {},
   "source": [
    "## action taken\n",
    "0. not approved\n",
    "1. approved\n"
   ]
  },
  {
   "cell_type": "code",
   "execution_count": null,
   "metadata": {},
   "outputs": [],
   "source": [
    "data_org['action_taken'].value_counts()"
   ]
  },
  {
   "cell_type": "code",
   "execution_count": 5,
   "metadata": {},
   "outputs": [],
   "source": [
    "data_org['action_taken']= data_org['action_taken'].replace(3,0)\n",
    "matched_data['action_taken']= matched_data['action_taken'].replace(3,0)"
   ]
  },
  {
   "cell_type": "code",
   "execution_count": null,
   "metadata": {},
   "outputs": [],
   "source": [
    "data_org['loan_amount'].value_counts()"
   ]
  },
  {
   "cell_type": "code",
   "execution_count": null,
   "metadata": {},
   "outputs": [],
   "source": [
    "np.log(data_org['loan_amount']).hist()"
   ]
  },
  {
   "cell_type": "code",
   "execution_count": null,
   "metadata": {},
   "outputs": [],
   "source": [
    "data_org['loan_to_value_ratio'].value_counts()"
   ]
  },
  {
   "cell_type": "code",
   "execution_count": 6,
   "metadata": {},
   "outputs": [],
   "source": [
    "data_org['loan_to_value_ratio']= pd.to_numeric(data_org['loan_to_value_ratio'],errors= 'coerce')\n",
    "matched_data['loan_to_value_ratio']= pd.to_numeric(matched_data['loan_to_value_ratio'],errors= 'coerce')"
   ]
  },
  {
   "cell_type": "code",
   "execution_count": null,
   "metadata": {},
   "outputs": [],
   "source": [
    "data_org['loan_to_value_ratio'].clip(0, 120).hist(bins=50)\n",
    "# 40\n",
    "# 60\n",
    "# 79\n",
    "# 81\n",
    "# 90\n",
    "# 100"
   ]
  },
  {
   "cell_type": "code",
   "execution_count": null,
   "metadata": {},
   "outputs": [],
   "source": [
    "data_org['interest_rate'].value_counts()"
   ]
  },
  {
   "cell_type": "code",
   "execution_count": 7,
   "metadata": {},
   "outputs": [],
   "source": [
    "data_org['interest_rate']= pd.to_numeric(data_org['interest_rate'],errors= 'coerce')\n",
    "matched_data['interest_rate']= pd.to_numeric(matched_data['interest_rate'],errors= 'coerce')"
   ]
  },
  {
   "cell_type": "code",
   "execution_count": null,
   "metadata": {},
   "outputs": [],
   "source": [
    "data_org['interest_rate'].max()"
   ]
  },
  {
   "cell_type": "code",
   "execution_count": 8,
   "metadata": {},
   "outputs": [],
   "source": [
    "data_org['interest_rate']=data_org['interest_rate'].clip(0,15)\n",
    "matched_data['interest_rate']=matched_data['interest_rate'].clip(0,15)"
   ]
  },
  {
   "cell_type": "code",
   "execution_count": null,
   "metadata": {},
   "outputs": [],
   "source": [
    "data_org['interest_rate'].clip(0,15).hist()"
   ]
  },
  {
   "cell_type": "code",
   "execution_count": null,
   "metadata": {},
   "outputs": [],
   "source": [
    "data_white['income'].value_counts()"
   ]
  },
  {
   "cell_type": "code",
   "execution_count": null,
   "metadata": {},
   "outputs": [],
   "source": [
    "np.log10(data_white['income'].clip(0.01,1000)).hist(bins=50)"
   ]
  },
  {
   "cell_type": "code",
   "execution_count": null,
   "metadata": {},
   "outputs": [],
   "source": [
    "np.log10(data_black['income'].clip(0.01,1000)).hist(bins=50)"
   ]
  },
  {
   "cell_type": "code",
   "execution_count": null,
   "metadata": {},
   "outputs": [],
   "source": [
    "np.log10(matched_data['income'].clip(0.01,1000)).hist(bins=50)"
   ]
  },
  {
   "cell_type": "code",
   "execution_count": null,
   "metadata": {},
   "outputs": [],
   "source": [
    "matched_data['income'].value_counts()"
   ]
  },
  {
   "cell_type": "code",
   "execution_count": 9,
   "metadata": {},
   "outputs": [],
   "source": [
    "data_org['income']=data_org['income'].clip(0.01,10000)\n",
    "matched_data['income']=matched_data['income'].clip(0.01,10000)"
   ]
  },
  {
   "cell_type": "code",
   "execution_count": null,
   "metadata": {},
   "outputs": [],
   "source": [
    "data_org['debt_to_income_ratio'].value_counts()"
   ]
  },
  {
   "cell_type": "code",
   "execution_count": 10,
   "metadata": {},
   "outputs": [],
   "source": [
    "data_org.loc[data_org['debt_to_income_ratio']=='<20%','debt_to_income_ratio']=15\n",
    "data_org.loc[data_org['debt_to_income_ratio']=='20%-<30%','debt_to_income_ratio']=25\n",
    "data_org.loc[data_org['debt_to_income_ratio']=='30%-<36%','debt_to_income_ratio']=33\n",
    "data_org.loc[data_org['debt_to_income_ratio']=='50%-60%','debt_to_income_ratio']=55\n",
    "data_org.loc[data_org['debt_to_income_ratio']=='>60%','debt_to_income_ratio']=65\n",
    "#matched_data\n",
    "matched_data.loc[matched_data['debt_to_income_ratio']=='<20%','debt_to_income_ratio']=15\n",
    "matched_data.loc[matched_data['debt_to_income_ratio']=='20%-<30%','debt_to_income_ratio']=25\n",
    "matched_data.loc[matched_data['debt_to_income_ratio']=='30%-<36%','debt_to_income_ratio']=33\n",
    "matched_data.loc[matched_data['debt_to_income_ratio']=='50%-60%','debt_to_income_ratio']=55\n",
    "matched_data.loc[matched_data['debt_to_income_ratio']=='>60%','debt_to_income_ratio']=65"
   ]
  },
  {
   "cell_type": "code",
   "execution_count": 11,
   "metadata": {},
   "outputs": [],
   "source": [
    "#delete exempt\n",
    "data_org = data_org[data_org['debt_to_income_ratio'] != 'Exempt']\n",
    "matched_data = matched_data[matched_data['debt_to_income_ratio'] != 'Exempt']"
   ]
  },
  {
   "cell_type": "code",
   "execution_count": 12,
   "metadata": {},
   "outputs": [],
   "source": [
    "data_org['debt_to_income_ratio'] = pd.to_numeric(data_org['debt_to_income_ratio'])\n",
    "matched_data['debt_to_income_ratio'] = pd.to_numeric(matched_data['debt_to_income_ratio'])"
   ]
  },
  {
   "cell_type": "code",
   "execution_count": 13,
   "metadata": {},
   "outputs": [
    {
     "data": {
      "text/plain": [
       "5    2823527\n",
       "3     362626\n",
       "Name: applicant_race-1, dtype: int64"
      ]
     },
     "execution_count": 13,
     "metadata": {},
     "output_type": "execute_result"
    }
   ],
   "source": [
    "data_org['applicant_race-1'].value_counts()"
   ]
  },
  {
   "cell_type": "code",
   "execution_count": 14,
   "metadata": {},
   "outputs": [],
   "source": [
    "data_org.rename(columns={\"applicant_race-1\": \"applicant_race\"},inplace= True)\n",
    "matched_data.rename(columns={\"applicant_race-1\": \"applicant_race\"},inplace= True)"
   ]
  },
  {
   "cell_type": "code",
   "execution_count": 15,
   "metadata": {},
   "outputs": [],
   "source": [
    "data_org['applicant_race']= data_org['applicant_race'].replace(3,1).replace(5,0)\n",
    "matched_data['applicant_race']= matched_data['applicant_race'].replace(3,1).replace(5,0)"
   ]
  },
  {
   "cell_type": "code",
   "execution_count": null,
   "metadata": {},
   "outputs": [],
   "source": [
    "data_org['applicant_race'].value_counts()"
   ]
  },
  {
   "cell_type": "code",
   "execution_count": null,
   "metadata": {},
   "outputs": [],
   "source": [
    "data_org['applicant_sex'].value_counts()"
   ]
  },
  {
   "cell_type": "code",
   "execution_count": null,
   "metadata": {},
   "outputs": [],
   "source": [
    "matched_data['applicant_sex'].value_counts()"
   ]
  },
  {
   "cell_type": "code",
   "execution_count": 16,
   "metadata": {},
   "outputs": [],
   "source": [
    "data_org = data_org[data_org['applicant_sex']!=4]"
   ]
  },
  {
   "cell_type": "code",
   "execution_count": null,
   "metadata": {},
   "outputs": [],
   "source": [
    "data_org['applicant_age'].value_counts()"
   ]
  },
  {
   "cell_type": "code",
   "execution_count": 17,
   "metadata": {},
   "outputs": [],
   "source": [
    "data_org = data_org[~data_org['applicant_age'].isin(['8888','9999'])]\n",
    "matched_data = matched_data[~matched_data['applicant_age'].isin(['8888','9999'])]\n"
   ]
  },
  {
   "cell_type": "code",
   "execution_count": 18,
   "metadata": {},
   "outputs": [],
   "source": [
    "matched_data.to_pickle('matched_type.pkl')\n",
    "data_org.to_pickle('data_org.pkl')"
   ]
  },
  {
   "cell_type": "code",
   "execution_count": null,
   "metadata": {},
   "outputs": [],
   "source": [
    "data_org['income'].min()"
   ]
  },
  {
   "cell_type": "code",
   "execution_count": null,
   "metadata": {},
   "outputs": [],
   "source": [
    "data_org['loan_amount'].min()"
   ]
  },
  {
   "cell_type": "code",
   "execution_count": null,
   "metadata": {},
   "outputs": [],
   "source": []
  }
 ],
 "metadata": {
  "kernelspec": {
   "display_name": "Python 3",
   "language": "python",
   "name": "python3"
  },
  "language_info": {
   "codemirror_mode": {
    "name": "ipython",
    "version": 3
   },
   "file_extension": ".py",
   "mimetype": "text/x-python",
   "name": "python",
   "nbconvert_exporter": "python",
   "pygments_lexer": "ipython3",
   "version": "3.7.4"
  }
 },
 "nbformat": 4,
 "nbformat_minor": 5
}
