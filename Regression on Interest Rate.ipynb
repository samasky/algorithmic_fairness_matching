{
 "cells": [
  {
   "cell_type": "code",
   "execution_count": 1,
   "metadata": {},
   "outputs": [],
   "source": [
    "from sklearn.linear_model import LinearRegression as LR\n",
    "from sklearn.ensemble import RandomForestRegressor\n",
    "from sklearn.neural_network import MLPRegressor\n",
    "import pandas as pd\n",
    "import matplotlib.pyplot as plt\n",
    "%matplotlib inline\n",
    "import numpy as np\n",
    "from sklearn.metrics import r2_score, mean_squared_error\n",
    "from copy import deepcopy"
   ]
  },
  {
   "cell_type": "markdown",
   "metadata": {},
   "source": [
    "## Set the learning algorithm"
   ]
  },
  {
   "cell_type": "code",
   "execution_count": 2,
   "metadata": {},
   "outputs": [],
   "source": [
    "ALGO = RandomForestRegressor\n",
    "params = {'random_state': 110, 'max_depth': 5, 'verbose': 1, 'n_jobs': 4}\n",
    "name = 'RF'\n",
    "\n",
    "# ALGO = LR\n",
    "# params = {}\n",
    "# name = 'LR'\n",
    "\n",
    "# ALGO = MLPRegressor\n",
    "# params = {'random_state': 110, 'hidden_layer_sizes': (50, 50), 'early_stopping': True, 'verbose': 1}\n",
    "# name = 'NN'"
   ]
  },
  {
   "cell_type": "markdown",
   "metadata": {},
   "source": [
    "## Load Data"
   ]
  },
  {
   "cell_type": "code",
   "execution_count": 3,
   "metadata": {},
   "outputs": [],
   "source": [
    "org_data = pd.read_pickle(r'data_org.pkl')\n",
    "p_matched = pd.read_pickle(r'matched_type.pkl')"
   ]
  },
  {
   "cell_type": "code",
   "execution_count": 4,
   "metadata": {},
   "outputs": [
    {
     "data": {
      "text/html": [
       "<div>\n",
       "<style scoped>\n",
       "    .dataframe tbody tr th:only-of-type {\n",
       "        vertical-align: middle;\n",
       "    }\n",
       "\n",
       "    .dataframe tbody tr th {\n",
       "        vertical-align: top;\n",
       "    }\n",
       "\n",
       "    .dataframe thead th {\n",
       "        text-align: right;\n",
       "    }\n",
       "</style>\n",
       "<table border=\"1\" class=\"dataframe\">\n",
       "  <thead>\n",
       "    <tr style=\"text-align: right;\">\n",
       "      <th></th>\n",
       "      <th>Unnamed: 0</th>\n",
       "      <th>state_code</th>\n",
       "      <th>conforming_loan_limit</th>\n",
       "      <th>action_taken</th>\n",
       "      <th>purchaser_type</th>\n",
       "      <th>loan_type</th>\n",
       "      <th>lien_status</th>\n",
       "      <th>open-end_line_of_credit</th>\n",
       "      <th>loan_amount</th>\n",
       "      <th>loan_to_value_ratio</th>\n",
       "      <th>...</th>\n",
       "      <th>applicant_age</th>\n",
       "      <th>tract_minority_population_percent</th>\n",
       "      <th>ffiec_msa_md_median_family_income</th>\n",
       "      <th>tract_to_msa_income_percentage</th>\n",
       "      <th>tract_owner_occupied_units</th>\n",
       "      <th>tract_one_to_four_family_homes</th>\n",
       "      <th>tract_median_age_of_housing_units</th>\n",
       "      <th>LV</th>\n",
       "      <th>DI</th>\n",
       "      <th>income_brackets</th>\n",
       "    </tr>\n",
       "  </thead>\n",
       "  <tbody>\n",
       "    <tr>\n",
       "      <th>0</th>\n",
       "      <td>530</td>\n",
       "      <td>CA</td>\n",
       "      <td>NC</td>\n",
       "      <td>1</td>\n",
       "      <td>0</td>\n",
       "      <td>1</td>\n",
       "      <td>1</td>\n",
       "      <td>2</td>\n",
       "      <td>905000.0</td>\n",
       "      <td>36.290</td>\n",
       "      <td>...</td>\n",
       "      <td>35-44</td>\n",
       "      <td>26.17</td>\n",
       "      <td>86300</td>\n",
       "      <td>211</td>\n",
       "      <td>2618</td>\n",
       "      <td>3446</td>\n",
       "      <td>14</td>\n",
       "      <td>0</td>\n",
       "      <td>4</td>\n",
       "      <td>4</td>\n",
       "    </tr>\n",
       "    <tr>\n",
       "      <th>1</th>\n",
       "      <td>8799564</td>\n",
       "      <td>CA</td>\n",
       "      <td>NC</td>\n",
       "      <td>1</td>\n",
       "      <td>0</td>\n",
       "      <td>1</td>\n",
       "      <td>1</td>\n",
       "      <td>2</td>\n",
       "      <td>1405000.0</td>\n",
       "      <td>35.900</td>\n",
       "      <td>...</td>\n",
       "      <td>35-44</td>\n",
       "      <td>51.46</td>\n",
       "      <td>129900</td>\n",
       "      <td>209</td>\n",
       "      <td>1991</td>\n",
       "      <td>2163</td>\n",
       "      <td>48</td>\n",
       "      <td>0</td>\n",
       "      <td>4</td>\n",
       "      <td>4</td>\n",
       "    </tr>\n",
       "    <tr>\n",
       "      <th>2</th>\n",
       "      <td>548</td>\n",
       "      <td>FL</td>\n",
       "      <td>C</td>\n",
       "      <td>0</td>\n",
       "      <td>0</td>\n",
       "      <td>1</td>\n",
       "      <td>1</td>\n",
       "      <td>2</td>\n",
       "      <td>155000.0</td>\n",
       "      <td>104.375</td>\n",
       "      <td>...</td>\n",
       "      <td>25-34</td>\n",
       "      <td>63.00</td>\n",
       "      <td>66900</td>\n",
       "      <td>109</td>\n",
       "      <td>2117</td>\n",
       "      <td>3084</td>\n",
       "      <td>14</td>\n",
       "      <td>6</td>\n",
       "      <td>7</td>\n",
       "      <td>1</td>\n",
       "    </tr>\n",
       "    <tr>\n",
       "      <th>3</th>\n",
       "      <td>2308143</td>\n",
       "      <td>FL</td>\n",
       "      <td>C</td>\n",
       "      <td>1</td>\n",
       "      <td>6</td>\n",
       "      <td>1</td>\n",
       "      <td>1</td>\n",
       "      <td>2</td>\n",
       "      <td>135000.0</td>\n",
       "      <td>102.510</td>\n",
       "      <td>...</td>\n",
       "      <td>25-34</td>\n",
       "      <td>25.33</td>\n",
       "      <td>66900</td>\n",
       "      <td>71</td>\n",
       "      <td>716</td>\n",
       "      <td>1389</td>\n",
       "      <td>39</td>\n",
       "      <td>6</td>\n",
       "      <td>7</td>\n",
       "      <td>1</td>\n",
       "    </tr>\n",
       "    <tr>\n",
       "      <th>4</th>\n",
       "      <td>601</td>\n",
       "      <td>AL</td>\n",
       "      <td>C</td>\n",
       "      <td>0</td>\n",
       "      <td>0</td>\n",
       "      <td>4</td>\n",
       "      <td>1</td>\n",
       "      <td>2</td>\n",
       "      <td>75000.0</td>\n",
       "      <td>100.000</td>\n",
       "      <td>...</td>\n",
       "      <td>55-64</td>\n",
       "      <td>7.81</td>\n",
       "      <td>58300</td>\n",
       "      <td>113</td>\n",
       "      <td>1545</td>\n",
       "      <td>2297</td>\n",
       "      <td>25</td>\n",
       "      <td>6</td>\n",
       "      <td>8</td>\n",
       "      <td>0</td>\n",
       "    </tr>\n",
       "    <tr>\n",
       "      <th>...</th>\n",
       "      <td>...</td>\n",
       "      <td>...</td>\n",
       "      <td>...</td>\n",
       "      <td>...</td>\n",
       "      <td>...</td>\n",
       "      <td>...</td>\n",
       "      <td>...</td>\n",
       "      <td>...</td>\n",
       "      <td>...</td>\n",
       "      <td>...</td>\n",
       "      <td>...</td>\n",
       "      <td>...</td>\n",
       "      <td>...</td>\n",
       "      <td>...</td>\n",
       "      <td>...</td>\n",
       "      <td>...</td>\n",
       "      <td>...</td>\n",
       "      <td>...</td>\n",
       "      <td>...</td>\n",
       "      <td>...</td>\n",
       "      <td>...</td>\n",
       "    </tr>\n",
       "    <tr>\n",
       "      <th>679765</th>\n",
       "      <td>8395614</td>\n",
       "      <td>MS</td>\n",
       "      <td>C</td>\n",
       "      <td>1</td>\n",
       "      <td>3</td>\n",
       "      <td>1</td>\n",
       "      <td>1</td>\n",
       "      <td>2</td>\n",
       "      <td>305000.0</td>\n",
       "      <td>95.000</td>\n",
       "      <td>...</td>\n",
       "      <td>35-44</td>\n",
       "      <td>16.84</td>\n",
       "      <td>60400</td>\n",
       "      <td>234</td>\n",
       "      <td>1854</td>\n",
       "      <td>1966</td>\n",
       "      <td>17</td>\n",
       "      <td>5</td>\n",
       "      <td>6</td>\n",
       "      <td>2</td>\n",
       "    </tr>\n",
       "    <tr>\n",
       "      <th>679766</th>\n",
       "      <td>9060784</td>\n",
       "      <td>PA</td>\n",
       "      <td>C</td>\n",
       "      <td>1</td>\n",
       "      <td>1</td>\n",
       "      <td>1</td>\n",
       "      <td>1</td>\n",
       "      <td>2</td>\n",
       "      <td>115000.0</td>\n",
       "      <td>84.838</td>\n",
       "      <td>...</td>\n",
       "      <td>25-34</td>\n",
       "      <td>93.46</td>\n",
       "      <td>62800</td>\n",
       "      <td>72</td>\n",
       "      <td>1201</td>\n",
       "      <td>2839</td>\n",
       "      <td>70</td>\n",
       "      <td>4</td>\n",
       "      <td>5</td>\n",
       "      <td>1</td>\n",
       "    </tr>\n",
       "    <tr>\n",
       "      <th>679767</th>\n",
       "      <td>1869941</td>\n",
       "      <td>PA</td>\n",
       "      <td>C</td>\n",
       "      <td>1</td>\n",
       "      <td>1</td>\n",
       "      <td>1</td>\n",
       "      <td>1</td>\n",
       "      <td>2</td>\n",
       "      <td>65000.0</td>\n",
       "      <td>85.000</td>\n",
       "      <td>...</td>\n",
       "      <td>25-34</td>\n",
       "      <td>3.67</td>\n",
       "      <td>63200</td>\n",
       "      <td>104</td>\n",
       "      <td>1318</td>\n",
       "      <td>1699</td>\n",
       "      <td>67</td>\n",
       "      <td>4</td>\n",
       "      <td>5</td>\n",
       "      <td>1</td>\n",
       "    </tr>\n",
       "    <tr>\n",
       "      <th>679768</th>\n",
       "      <td>9060795</td>\n",
       "      <td>FL</td>\n",
       "      <td>C</td>\n",
       "      <td>1</td>\n",
       "      <td>1</td>\n",
       "      <td>1</td>\n",
       "      <td>1</td>\n",
       "      <td>2</td>\n",
       "      <td>175000.0</td>\n",
       "      <td>97.000</td>\n",
       "      <td>...</td>\n",
       "      <td>55-64</td>\n",
       "      <td>75.49</td>\n",
       "      <td>75400</td>\n",
       "      <td>66</td>\n",
       "      <td>926</td>\n",
       "      <td>1711</td>\n",
       "      <td>40</td>\n",
       "      <td>5</td>\n",
       "      <td>6</td>\n",
       "      <td>0</td>\n",
       "    </tr>\n",
       "    <tr>\n",
       "      <th>679769</th>\n",
       "      <td>7460280</td>\n",
       "      <td>FL</td>\n",
       "      <td>C</td>\n",
       "      <td>1</td>\n",
       "      <td>71</td>\n",
       "      <td>1</td>\n",
       "      <td>1</td>\n",
       "      <td>2</td>\n",
       "      <td>105000.0</td>\n",
       "      <td>95.000</td>\n",
       "      <td>...</td>\n",
       "      <td>55-64</td>\n",
       "      <td>4.31</td>\n",
       "      <td>69200</td>\n",
       "      <td>86</td>\n",
       "      <td>1415</td>\n",
       "      <td>1848</td>\n",
       "      <td>35</td>\n",
       "      <td>5</td>\n",
       "      <td>6</td>\n",
       "      <td>0</td>\n",
       "    </tr>\n",
       "  </tbody>\n",
       "</table>\n",
       "<p>679698 rows × 34 columns</p>\n",
       "</div>"
      ],
      "text/plain": [
       "        Unnamed: 0 state_code conforming_loan_limit  action_taken  \\\n",
       "0              530         CA                    NC             1   \n",
       "1          8799564         CA                    NC             1   \n",
       "2              548         FL                     C             0   \n",
       "3          2308143         FL                     C             1   \n",
       "4              601         AL                     C             0   \n",
       "...            ...        ...                   ...           ...   \n",
       "679765     8395614         MS                     C             1   \n",
       "679766     9060784         PA                     C             1   \n",
       "679767     1869941         PA                     C             1   \n",
       "679768     9060795         FL                     C             1   \n",
       "679769     7460280         FL                     C             1   \n",
       "\n",
       "        purchaser_type  loan_type  lien_status  open-end_line_of_credit  \\\n",
       "0                    0          1            1                        2   \n",
       "1                    0          1            1                        2   \n",
       "2                    0          1            1                        2   \n",
       "3                    6          1            1                        2   \n",
       "4                    0          4            1                        2   \n",
       "...                ...        ...          ...                      ...   \n",
       "679765               3          1            1                        2   \n",
       "679766               1          1            1                        2   \n",
       "679767               1          1            1                        2   \n",
       "679768               1          1            1                        2   \n",
       "679769              71          1            1                        2   \n",
       "\n",
       "        loan_amount  loan_to_value_ratio  ...  applicant_age  \\\n",
       "0          905000.0               36.290  ...          35-44   \n",
       "1         1405000.0               35.900  ...          35-44   \n",
       "2          155000.0              104.375  ...          25-34   \n",
       "3          135000.0              102.510  ...          25-34   \n",
       "4           75000.0              100.000  ...          55-64   \n",
       "...             ...                  ...  ...            ...   \n",
       "679765     305000.0               95.000  ...          35-44   \n",
       "679766     115000.0               84.838  ...          25-34   \n",
       "679767      65000.0               85.000  ...          25-34   \n",
       "679768     175000.0               97.000  ...          55-64   \n",
       "679769     105000.0               95.000  ...          55-64   \n",
       "\n",
       "        tract_minority_population_percent ffiec_msa_md_median_family_income  \\\n",
       "0                                   26.17                             86300   \n",
       "1                                   51.46                            129900   \n",
       "2                                   63.00                             66900   \n",
       "3                                   25.33                             66900   \n",
       "4                                    7.81                             58300   \n",
       "...                                   ...                               ...   \n",
       "679765                              16.84                             60400   \n",
       "679766                              93.46                             62800   \n",
       "679767                               3.67                             63200   \n",
       "679768                              75.49                             75400   \n",
       "679769                               4.31                             69200   \n",
       "\n",
       "        tract_to_msa_income_percentage  tract_owner_occupied_units  \\\n",
       "0                                  211                        2618   \n",
       "1                                  209                        1991   \n",
       "2                                  109                        2117   \n",
       "3                                   71                         716   \n",
       "4                                  113                        1545   \n",
       "...                                ...                         ...   \n",
       "679765                             234                        1854   \n",
       "679766                              72                        1201   \n",
       "679767                             104                        1318   \n",
       "679768                              66                         926   \n",
       "679769                              86                        1415   \n",
       "\n",
       "        tract_one_to_four_family_homes  tract_median_age_of_housing_units  LV  \\\n",
       "0                                 3446                                 14   0   \n",
       "1                                 2163                                 48   0   \n",
       "2                                 3084                                 14   6   \n",
       "3                                 1389                                 39   6   \n",
       "4                                 2297                                 25   6   \n",
       "...                                ...                                ...  ..   \n",
       "679765                            1966                                 17   5   \n",
       "679766                            2839                                 70   4   \n",
       "679767                            1699                                 67   4   \n",
       "679768                            1711                                 40   5   \n",
       "679769                            1848                                 35   5   \n",
       "\n",
       "        DI  income_brackets  \n",
       "0        4                4  \n",
       "1        4                4  \n",
       "2        7                1  \n",
       "3        7                1  \n",
       "4        8                0  \n",
       "...     ..              ...  \n",
       "679765   6                2  \n",
       "679766   5                1  \n",
       "679767   5                1  \n",
       "679768   6                0  \n",
       "679769   6                0  \n",
       "\n",
       "[679698 rows x 34 columns]"
      ]
     },
     "execution_count": 4,
     "metadata": {},
     "output_type": "execute_result"
    }
   ],
   "source": [
    "p_matched"
   ]
  },
  {
   "cell_type": "markdown",
   "metadata": {},
   "source": [
    "## Handling missing values"
   ]
  },
  {
   "cell_type": "code",
   "execution_count": 5,
   "metadata": {},
   "outputs": [],
   "source": [
    "org_data['income'].fillna(71, inplace=True)\n",
    "org_data['loan_to_value_ratio'].fillna(93, inplace=True)\n",
    "org_data['debt_to_income_ratio'].fillna(41, inplace=True)\n",
    "p_matched['income'].fillna(56, inplace=True)\n",
    "p_matched['loan_to_value_ratio'].fillna(93, inplace=True)\n",
    "p_matched['debt_to_income_ratio'].fillna(44, inplace=True)"
   ]
  },
  {
   "cell_type": "markdown",
   "metadata": {},
   "source": [
    "## Dropping Rows with Missing Values"
   ]
  },
  {
   "cell_type": "code",
   "execution_count": 6,
   "metadata": {},
   "outputs": [],
   "source": [
    "p_matched = p_matched[['Unnamed: 0', 'interest_rate','applicant_sex','income','applicant_race', 'state_code', 'loan_type',\n",
    "                                   'debt_to_income_ratio', 'loan_to_value_ratio', 'lien_status']]\n",
    "matched_b = p_matched.iloc[0::2, :]\n",
    "matched_w = p_matched.iloc[1::2, :]\n",
    "drop_index = list(set(np.where(pd.isna(matched_w).sum(axis=1).values>0)[0]) | set(np.where(pd.isna(matched_b).sum(axis=1).values>0)[0]))\n",
    "matched_w = matched_w.drop(index=matched_w.index[drop_index])\n",
    "matched_b = matched_b.drop(index=matched_b.index[drop_index])\n",
    "p_matched = pd.concat((matched_w, matched_b))"
   ]
  },
  {
   "cell_type": "code",
   "execution_count": 7,
   "metadata": {},
   "outputs": [],
   "source": [
    "org_data = org_data[['interest_rate','applicant_sex','income','applicant_race', 'state_code', 'loan_type',\n",
    "                                   'debt_to_income_ratio', 'loan_to_value_ratio', 'lien_status']]\n",
    "org_data.dropna(inplace=True)"
   ]
  },
  {
   "cell_type": "markdown",
   "metadata": {},
   "source": [
    "## Train-Test Split"
   ]
  },
  {
   "cell_type": "code",
   "execution_count": 8,
   "metadata": {},
   "outputs": [],
   "source": [
    "ratio = 0.25\n",
    "n_w = p_matched.shape[0]//2\n",
    "n_test = int(ratio*n_w)\n",
    "index = np.random.permutation(n_w)\n",
    "test_ind = index[:n_test]\n",
    "train_ind = index[n_test:]\n",
    "\n",
    "match_test_w = p_matched.iloc[test_ind, :]\n",
    "match_test_b = p_matched.iloc[test_ind+n_w, :]\n",
    "match_train_w = p_matched.iloc[train_ind, :]\n",
    "match_train_b = p_matched.iloc[train_ind+n_w, :]\n",
    "match_test = pd.concat((match_test_w, match_test_b))\n",
    "match_train = pd.concat((match_train_w, match_train_b))\n",
    "test_ids = set(match_test['Unnamed: 0'].values)\n",
    "org_data = org_data[~org_data.index.isin(test_ids)]"
   ]
  },
  {
   "cell_type": "markdown",
   "metadata": {},
   "source": [
    "## Prepare the Original Data"
   ]
  },
  {
   "cell_type": "code",
   "execution_count": 9,
   "metadata": {},
   "outputs": [
    {
     "name": "stderr",
     "output_type": "stream",
     "text": [
      "<ipython-input-9-90b60653d91a>:2: SettingWithCopyWarning: \n",
      "A value is trying to be set on a copy of a slice from a DataFrame.\n",
      "Try using .loc[row_indexer,col_indexer] = value instead\n",
      "\n",
      "See the caveats in the documentation: https://pandas.pydata.org/pandas-docs/stable/user_guide/indexing.html#returning-a-view-versus-a-copy\n",
      "  X_lr['log_income'] = np.log(org_data['income'])\n",
      "/opt/anaconda3/lib/python3.8/site-packages/pandas/core/frame.py:3191: SettingWithCopyWarning: \n",
      "A value is trying to be set on a copy of a slice from a DataFrame.\n",
      "Try using .loc[row_indexer,col_indexer] = value instead\n",
      "\n",
      "See the caveats in the documentation: https://pandas.pydata.org/pandas-docs/stable/user_guide/indexing.html#returning-a-view-versus-a-copy\n",
      "  self[k1] = value[k2]\n"
     ]
    }
   ],
   "source": [
    "X_lr = org_data[['applicant_race', 'debt_to_income_ratio', 'loan_to_value_ratio', 'lien_status']]\n",
    "X_lr['log_income'] = np.log(org_data['income'])\n",
    "sex = pd.get_dummies(org_data['applicant_sex'], drop_first=True, prefix='sex')\n",
    "X_lr[sex.columns] = sex\n",
    "state = pd.get_dummies(org_data['state_code'], drop_first=True, prefix='state')\n",
    "X_lr[state.columns] = state\n",
    "ltype = pd.get_dummies(org_data['loan_type'], drop_first=True, prefix='type')\n",
    "X_lr[ltype.columns] = ltype\n",
    "y_lr = org_data['interest_rate'].clip(0, 12)"
   ]
  },
  {
   "cell_type": "markdown",
   "metadata": {},
   "source": [
    "### Algorithm 1: Use all features and train a Regression algorithm on *Original data*"
   ]
  },
  {
   "cell_type": "code",
   "execution_count": 10,
   "metadata": {},
   "outputs": [
    {
     "name": "stderr",
     "output_type": "stream",
     "text": [
      "[Parallel(n_jobs=4)]: Using backend ThreadingBackend with 4 concurrent workers.\n",
      "[Parallel(n_jobs=4)]: Done  42 tasks      | elapsed:  1.3min\n",
      "[Parallel(n_jobs=4)]: Done 100 out of 100 | elapsed:  3.1min finished\n"
     ]
    }
   ],
   "source": [
    "reg1 = ALGO(**params).fit(X_lr, y_lr)"
   ]
  },
  {
   "cell_type": "markdown",
   "metadata": {},
   "source": [
    "### Algorithm 2: Don't use *Race* and train another Linear Regression on *Original data*"
   ]
  },
  {
   "cell_type": "code",
   "execution_count": null,
   "metadata": {},
   "outputs": [],
   "source": [
    "X_lr2 = deepcopy(X_lr)\n",
    "X_lr2['applicant_race']=0"
   ]
  },
  {
   "cell_type": "code",
   "execution_count": null,
   "metadata": {},
   "outputs": [],
   "source": [
    "reg2 = ALGO(**params).fit(X_lr2,y_lr)"
   ]
  },
  {
   "cell_type": "markdown",
   "metadata": {},
   "source": [
    "### Algorithm 3: Don't use *Race* and train another Linear Regression on *Matched Data*"
   ]
  },
  {
   "cell_type": "code",
   "execution_count": 11,
   "metadata": {},
   "outputs": [
    {
     "name": "stderr",
     "output_type": "stream",
     "text": [
      "<ipython-input-11-d8b3d709c4c8>:3: SettingWithCopyWarning: \n",
      "A value is trying to be set on a copy of a slice from a DataFrame.\n",
      "Try using .loc[row_indexer,col_indexer] = value instead\n",
      "\n",
      "See the caveats in the documentation: https://pandas.pydata.org/pandas-docs/stable/user_guide/indexing.html#returning-a-view-versus-a-copy\n",
      "  X_lr_matched['log_income'] = np.log(p_matched['income'])\n",
      "/opt/anaconda3/lib/python3.8/site-packages/pandas/core/frame.py:3191: SettingWithCopyWarning: \n",
      "A value is trying to be set on a copy of a slice from a DataFrame.\n",
      "Try using .loc[row_indexer,col_indexer] = value instead\n",
      "\n",
      "See the caveats in the documentation: https://pandas.pydata.org/pandas-docs/stable/user_guide/indexing.html#returning-a-view-versus-a-copy\n",
      "  self[k1] = value[k2]\n"
     ]
    }
   ],
   "source": [
    "# Training data\n",
    "X_lr_matched = match_train[['applicant_race', 'debt_to_income_ratio', 'loan_to_value_ratio', 'lien_status']]\n",
    "X_lr_matched['log_income'] = np.log(p_matched['income'])\n",
    "sex = pd.get_dummies(match_train['applicant_sex'], drop_first=True, prefix='sex')\n",
    "X_lr_matched[sex.columns] = sex\n",
    "state = pd.get_dummies(match_train['state_code'], drop_first=True, prefix='state')\n",
    "X_lr_matched[state.columns] = state\n",
    "ltype = pd.get_dummies(match_train['loan_type'], drop_first=True, prefix='type')\n",
    "X_lr_matched[ltype.columns] = ltype\n",
    "y_lr_matched = match_train['interest_rate'].clip(0, 12)"
   ]
  },
  {
   "cell_type": "code",
   "execution_count": 12,
   "metadata": {},
   "outputs": [
    {
     "name": "stderr",
     "output_type": "stream",
     "text": [
      "<ipython-input-12-c243a87e3802>:3: SettingWithCopyWarning: \n",
      "A value is trying to be set on a copy of a slice from a DataFrame.\n",
      "Try using .loc[row_indexer,col_indexer] = value instead\n",
      "\n",
      "See the caveats in the documentation: https://pandas.pydata.org/pandas-docs/stable/user_guide/indexing.html#returning-a-view-versus-a-copy\n",
      "  X_test['log_income'] = np.log(match_test['income'])\n"
     ]
    }
   ],
   "source": [
    "# Test data\n",
    "X_test = match_test[['applicant_race', 'debt_to_income_ratio', 'loan_to_value_ratio', 'lien_status']]\n",
    "X_test['log_income'] = np.log(match_test['income'])\n",
    "sex = pd.get_dummies(match_test['applicant_sex'], drop_first=True, prefix='sex')\n",
    "X_test[sex.columns] = sex\n",
    "state = pd.get_dummies(match_test['state_code'], drop_first=True, prefix='state')\n",
    "X_test[state.columns] = state\n",
    "ltype = pd.get_dummies(match_test['loan_type'], drop_first=True, prefix='type')\n",
    "X_test[ltype.columns] = ltype\n",
    "y_test = match_test['interest_rate'].clip(0, 12)"
   ]
  },
  {
   "cell_type": "code",
   "execution_count": 15,
   "metadata": {},
   "outputs": [],
   "source": [
    "X_lr3 = deepcopy(X_lr_matched)\n",
    "X_lr3['applicant_race']=0"
   ]
  },
  {
   "cell_type": "code",
   "execution_count": null,
   "metadata": {},
   "outputs": [],
   "source": [
    "reg3 = ALGO(**params).fit(X_lr3, y_lr_matched)"
   ]
  },
  {
   "cell_type": "markdown",
   "metadata": {},
   "source": [
    "### Algorithm 4: randomly swap the labels"
   ]
  },
  {
   "cell_type": "code",
   "execution_count": 13,
   "metadata": {},
   "outputs": [],
   "source": [
    "n_w_train = y_lr_matched.shape[0]//2\n",
    "swaps_w = (np.random.uniform(0, 1, n_w_train) > 0.5).astype(int)\n",
    "swaps_b = 1 - swaps_w\n",
    "y_lr_matched = y_lr_matched.values\n",
    "y_w = y_lr_matched[:n_w_train]*swaps_w + y_lr_matched[n_w_train:]*swaps_b\n",
    "y_b = y_lr_matched[:n_w_train]*swaps_b + y_lr_matched[n_w_train:]*swaps_w\n",
    "y_swap = np.concatenate((y_w, y_b))"
   ]
  },
  {
   "cell_type": "code",
   "execution_count": 16,
   "metadata": {},
   "outputs": [
    {
     "name": "stderr",
     "output_type": "stream",
     "text": [
      "[Parallel(n_jobs=4)]: Using backend ThreadingBackend with 4 concurrent workers.\n",
      "[Parallel(n_jobs=4)]: Done  42 tasks      | elapsed:    5.4s\n",
      "[Parallel(n_jobs=4)]: Done 100 out of 100 | elapsed:   12.1s finished\n"
     ]
    }
   ],
   "source": [
    "reg4 = ALGO(**params).fit(X_lr3, y_swap)"
   ]
  },
  {
   "cell_type": "markdown",
   "metadata": {},
   "source": [
    "## Predicting Interest Rate using algorithms 1,2,3 "
   ]
  },
  {
   "cell_type": "code",
   "execution_count": 17,
   "metadata": {},
   "outputs": [],
   "source": [
    "n_w_test = X_test.shape[0]//2"
   ]
  },
  {
   "cell_type": "code",
   "execution_count": 18,
   "metadata": {},
   "outputs": [
    {
     "name": "stderr",
     "output_type": "stream",
     "text": [
      "[Parallel(n_jobs=4)]: Using backend ThreadingBackend with 4 concurrent workers.\n",
      "[Parallel(n_jobs=4)]: Done  42 tasks      | elapsed:    0.0s\n",
      "[Parallel(n_jobs=4)]: Done 100 out of 100 | elapsed:    0.1s finished\n"
     ]
    }
   ],
   "source": [
    "pred1 = reg1.predict(X_test).clip(0, 12)\n",
    "pred2 = reg2.predict(X_test).clip(0, 12)\n",
    "pred3 = reg3.predict(X_test).clip(0, 12)\n",
    "pred4 = reg4.predict(X_test).clip(0, 12)"
   ]
  },
  {
   "cell_type": "markdown",
   "metadata": {},
   "source": [
    "## Evaluating Accuracy"
   ]
  },
  {
   "cell_type": "code",
   "execution_count": 19,
   "metadata": {},
   "outputs": [
    {
     "name": "stdout",
     "output_type": "stream",
     "text": [
      "Algorithm 4 Test RMSE: 0.758\n"
     ]
    }
   ],
   "source": [
    "# Overall accuracy\n",
    "print(f\"Algorithm 1 Test RMSE: {mean_squared_error(y_test, pred1):.3f}\")\n",
    "print(f\"Algorithm 2 Test RMSE: {mean_squared_error(y_test, pred2):.3f}\")\n",
    "print(f\"Algorithm 3 Test RMSE: {mean_squared_error(y_test, pred3):.3f}\")\n",
    "print(f\"Algorithm 4 Test RMSE: {mean_squared_error(y_test, pred4):.3f}\")"
   ]
  },
  {
   "cell_type": "code",
   "execution_count": 20,
   "metadata": {},
   "outputs": [
    {
     "name": "stdout",
     "output_type": "stream",
     "text": [
      "Algorithm 4 Test RMSE: 0.681\n"
     ]
    }
   ],
   "source": [
    "# Accuracy among whites\n",
    "print(f\"Algorithm 1 Test RMSE: {mean_squared_error(y_test[:n_w_test], pred1[:n_w_test]):.3f}\")\n",
    "print(f\"Algorithm 2 Test RMSE: {mean_squared_error(y_test[:n_w_test], pred2[:n_w_test]):.3f}\")\n",
    "print(f\"Algorithm 3 Test RMSE: {mean_squared_error(y_test[:n_w_test], pred3[:n_w_test]):.3f}\")\n",
    "print(f\"Algorithm 4 Test RMSE: {mean_squared_error(y_test[:n_w_test], pred4[:n_w_test]):.3f}\")"
   ]
  },
  {
   "cell_type": "code",
   "execution_count": 21,
   "metadata": {},
   "outputs": [
    {
     "name": "stdout",
     "output_type": "stream",
     "text": [
      "Algorithm 4 Test RMSE: 0.835\n"
     ]
    }
   ],
   "source": [
    "# Accuracy among blacks\n",
    "print(f\"Algorithm 1 Test RMSE: {mean_squared_error(y_test[n_w_test:], pred1[n_w_test:]):.3f}\")\n",
    "print(f\"Algorithm 2 Test RMSE: {mean_squared_error(y_test[n_w_test:], pred2[n_w_test:]):.3f}\")\n",
    "print(f\"Algorithm 3 Test RMSE: {mean_squared_error(y_test[n_w_test:], pred3[n_w_test:]):.3f}\")\n",
    "print(f\"Algorithm 4 Test RMSE: {mean_squared_error(y_test[n_w_test:], pred4[n_w_test:]):.3f}\")"
   ]
  },
  {
   "cell_type": "markdown",
   "metadata": {},
   "source": [
    "## Evaluating Fairness"
   ]
  },
  {
   "cell_type": "markdown",
   "metadata": {},
   "source": [
    "### Histogram of Interest Rate for algorithm 1"
   ]
  },
  {
   "cell_type": "code",
   "execution_count": null,
   "metadata": {},
   "outputs": [],
   "source": [
    "plt.hist(pred1[:n_w_test],bins=50, density=True)\n",
    "plt.hist(pred1[n_w_test:],bins=50,alpha=0.5, density=True)\n",
    "diff = (abs(pred1[:n_w_test]-pred1[n_w_test:])).mean()\n",
    "plt.legend(['White', 'Black'])\n",
    "plt.xlabel('Predicted Interest Rate')\n",
    "plt.title(f'CFU: {diff:.4f}')\n",
    "plt.tight_layout()\n",
    "plt.savefig(f'Interest_Rate_{name}1.pdf')"
   ]
  },
  {
   "cell_type": "markdown",
   "metadata": {},
   "source": [
    "### Histogram of Interest Rate for algorithm 2"
   ]
  },
  {
   "cell_type": "code",
   "execution_count": null,
   "metadata": {},
   "outputs": [],
   "source": [
    "plt.hist(pred2[:n_w_test],bins=50, density=True)\n",
    "plt.hist(pred2[n_w_test:],bins=50,alpha=0.5, density=True)\n",
    "diff = (abs(pred2[:n_w_test]-pred2[n_w_test:])).mean()\n",
    "plt.legend(['White', 'Black'])\n",
    "plt.xlabel('Predicted Interest Rate')\n",
    "plt.title(f'CFU: {diff:.4f}')\n",
    "plt.tight_layout()\n",
    "plt.savefig(f'Interest_Rate_{name}2.pdf')"
   ]
  },
  {
   "cell_type": "markdown",
   "metadata": {},
   "source": [
    "### Histogram of Interest Rate for algorithm 3"
   ]
  },
  {
   "cell_type": "code",
   "execution_count": null,
   "metadata": {},
   "outputs": [],
   "source": [
    "plt.hist(pred3[:n_w_test],bins=50, density=True)\n",
    "plt.hist(pred3[n_w_test:],bins=50,alpha=0.5, density=True)\n",
    "diff = (abs(pred3[:n_w_test]-pred3[n_w_test:])).mean()\n",
    "plt.legend(['White', 'Black'])\n",
    "plt.xlabel('Predicted Interest Rate')\n",
    "plt.title(f'CFU: {diff:.4f}')\n",
    "plt.tight_layout()\n",
    "plt.savefig(f'Interest_Rate_{name}3.pdf')"
   ]
  },
  {
   "cell_type": "markdown",
   "metadata": {},
   "source": [
    "### Histogram of Interest Rate for algorithm 4"
   ]
  },
  {
   "cell_type": "code",
   "execution_count": 22,
   "metadata": {},
   "outputs": [
    {
     "data": {
      "image/png": "[encoded data removed]",
      "text/plain": [
       "<Figure size 432x288 with 1 Axes>"
      ]
     },
     "metadata": {
      "needs_background": "light"
     },
     "output_type": "display_data"
    }
   ],
   "source": [
    "plt.hist(pred4[:n_w_test],bins=50, density=True)\n",
    "plt.hist(pred4[n_w_test:],bins=50,alpha=0.5, density=True)\n",
    "diff = (abs(pred4[:n_w_test]-pred4[n_w_test:])).mean()\n",
    "plt.legend(['White', 'Black'])\n",
    "plt.xlabel('Predicted Interest Rate')\n",
    "plt.title(f'CFU: {diff:.4f}')\n",
    "plt.tight_layout()\n",
    "plt.savefig(f'Interest_Rate_{name}4.pdf')"
   ]
  },
  {
   "cell_type": "code",
   "execution_count": null,
   "metadata": {},
   "outputs": [],
   "source": []
  }
 ],
 "metadata": {
  "kernelspec": {
   "display_name": "Python 3",
   "language": "python",
   "name": "python3"
  },
  "language_info": {
   "codemirror_mode": {
    "name": "ipython",
    "version": 3
   },
   "file_extension": ".py",
   "mimetype": "text/x-python",
   "name": "python",
   "nbconvert_exporter": "python",
   "pygments_lexer": "ipython3",
   "version": "3.7.4"
  }
 },
 "nbformat": 4,
 "nbformat_minor": 5
}
