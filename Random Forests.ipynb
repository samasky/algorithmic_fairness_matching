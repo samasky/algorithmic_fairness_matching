{
 "cells": [
  {
   "cell_type": "code",
   "execution_count": 1,
   "id": "6a44a22f",
   "metadata": {},
   "outputs": [],
   "source": [
    "from sklearn.ensemble import RandomForestClassifier\n",
    "import pandas as pd\n",
    "import matplotlib.pyplot as plt\n",
    "%matplotlib inline\n",
    "import numpy as np\n",
    "from patsy import dmatrices\n",
    "import statsmodels.api as sm\n",
    "from copy import deepcopy"
   ]
  },
  {
   "cell_type": "code",
   "execution_count": 2,
   "id": "fa2cbe8e",
   "metadata": {},
   "outputs": [],
   "source": [
    "org_data = pd.read_pickle(r'data_org.pkl')\n",
    "p_matched = pd.read_pickle(r'processed_matched.pkl')"
   ]
  },
  {
   "cell_type": "code",
   "execution_count": 3,
   "id": "3b38aaee",
   "metadata": {},
   "outputs": [],
   "source": [
    "# Handling missing values\n",
    "org_data['income'].fillna(71, inplace=True)\n",
    "org_data['loan_to_value_ratio'].fillna(93, inplace=True)\n",
    "org_data['debt_to_income_ratio'].fillna(41, inplace=True)\n",
    "p_matched['income'].fillna(56, inplace=True)\n",
    "p_matched['loan_to_value_ratio'].fillna(93, inplace=True)\n",
    "p_matched['debt_to_income_ratio'].fillna(44, inplace=True)"
   ]
  },
  {
   "cell_type": "markdown",
   "id": "751ce632",
   "metadata": {},
   "source": [
    "## Approval"
   ]
  },
  {
   "cell_type": "code",
   "execution_count": 4,
   "id": "bd4c36de",
   "metadata": {},
   "outputs": [
    {
     "name": "stderr",
     "output_type": "stream",
     "text": [
      "<ipython-input-4-2feef29930d5>:4: SettingWithCopyWarning: \n",
      "A value is trying to be set on a copy of a slice from a DataFrame.\n",
      "Try using .loc[row_indexer,col_indexer] = value instead\n",
      "\n",
      "See the caveats in the documentation: https://pandas.pydata.org/pandas-docs/stable/user_guide/indexing.html#returning-a-view-versus-a-copy\n",
      "  X_rf['log_income'] = np.log(org_data['income'])\n",
      "/opt/anaconda3/lib/python3.8/site-packages/pandas/core/frame.py:3191: SettingWithCopyWarning: \n",
      "A value is trying to be set on a copy of a slice from a DataFrame.\n",
      "Try using .loc[row_indexer,col_indexer] = value instead\n",
      "\n",
      "See the caveats in the documentation: https://pandas.pydata.org/pandas-docs/stable/user_guide/indexing.html#returning-a-view-versus-a-copy\n",
      "  self[k1] = value[k2]\n"
     ]
    }
   ],
   "source": [
    "org_data = org_data.dropna(subset=['action_taken','applicant_sex','income','applicant_race', \n",
    "                                   'debt_to_income_ratio', 'loan_to_value_ratio', 'lien_status'])\n",
    "X_rf = org_data[['applicant_race', 'debt_to_income_ratio', 'loan_to_value_ratio', 'lien_status']]\n",
    "X_rf['log_income'] = np.log(org_data['income'])\n",
    "sex = pd.get_dummies(org_data['applicant_sex'], drop_first=True, prefix='sex')\n",
    "X_rf[sex.columns] = sex\n",
    "y_rf = org_data['action_taken']"
   ]
  },
  {
   "cell_type": "code",
   "execution_count": 5,
   "id": "a38cdbd2",
   "metadata": {},
   "outputs": [
    {
     "name": "stdout",
     "output_type": "stream",
     "text": [
      "(3185334, 8)\n",
      "(3185334,)\n"
     ]
    }
   ],
   "source": [
    "print(X_rf.shape)\n",
    "print(y_rf.shape)"
   ]
  },
  {
   "cell_type": "markdown",
   "id": "f13ad756",
   "metadata": {},
   "source": [
    "### Algorithm 1: Use all features and train an RF on *Original data*"
   ]
  },
  {
   "cell_type": "code",
   "execution_count": 6,
   "id": "fdf34618",
   "metadata": {},
   "outputs": [
    {
     "data": {
      "text/plain": [
       "RandomForestClassifier(random_state=0)"
      ]
     },
     "execution_count": 6,
     "metadata": {},
     "output_type": "execute_result"
    }
   ],
   "source": [
    "clf_rf1 = RandomForestClassifier(random_state=0)\n",
    "clf_rf1.fit(X_rf, y_rf)"
   ]
  },
  {
   "cell_type": "markdown",
   "id": "34de71a2",
   "metadata": {},
   "source": [
    "### Algorithm 2: Don't use *Race* and train another RF on *Original data*"
   ]
  },
  {
   "cell_type": "code",
   "execution_count": 7,
   "id": "d7f44460",
   "metadata": {},
   "outputs": [
    {
     "name": "stderr",
     "output_type": "stream",
     "text": [
      "<ipython-input-7-7da77956defe>:2: SettingWithCopyWarning: \n",
      "A value is trying to be set on a copy of a slice from a DataFrame.\n",
      "Try using .loc[row_indexer,col_indexer] = value instead\n",
      "\n",
      "See the caveats in the documentation: https://pandas.pydata.org/pandas-docs/stable/user_guide/indexing.html#returning-a-view-versus-a-copy\n",
      "  X_rf2['applicant_race']=0\n"
     ]
    }
   ],
   "source": [
    "X_rf2 = X_rf\n",
    "X_rf2['applicant_race']=0"
   ]
  },
  {
   "cell_type": "code",
   "execution_count": 8,
   "id": "29b91eb1",
   "metadata": {},
   "outputs": [
    {
     "data": {
      "text/plain": [
       "RandomForestClassifier(random_state=0)"
      ]
     },
     "execution_count": 8,
     "metadata": {},
     "output_type": "execute_result"
    }
   ],
   "source": [
    "clf_rf2 = RandomForestClassifier(random_state=0)\n",
    "clf_rf2.fit(X_rf2, y_rf)"
   ]
  },
  {
   "cell_type": "markdown",
   "id": "d219e5aa",
   "metadata": {},
   "source": [
    "### Algorithm 3: Don't use *Race* and train another RF on *Matched Data*"
   ]
  },
  {
   "cell_type": "code",
   "execution_count": 9,
   "id": "b00fc5d8",
   "metadata": {},
   "outputs": [
    {
     "name": "stderr",
     "output_type": "stream",
     "text": [
      "<ipython-input-9-61d33da0cc50>:2: SettingWithCopyWarning: \n",
      "A value is trying to be set on a copy of a slice from a DataFrame.\n",
      "Try using .loc[row_indexer,col_indexer] = value instead\n",
      "\n",
      "See the caveats in the documentation: https://pandas.pydata.org/pandas-docs/stable/user_guide/indexing.html#returning-a-view-versus-a-copy\n",
      "  matched['log_income'] = np.log(p_matched['income'])\n",
      "/opt/anaconda3/lib/python3.8/site-packages/pandas/core/frame.py:3191: SettingWithCopyWarning: \n",
      "A value is trying to be set on a copy of a slice from a DataFrame.\n",
      "Try using .loc[row_indexer,col_indexer] = value instead\n",
      "\n",
      "See the caveats in the documentation: https://pandas.pydata.org/pandas-docs/stable/user_guide/indexing.html#returning-a-view-versus-a-copy\n",
      "  self[k1] = value[k2]\n"
     ]
    }
   ],
   "source": [
    "matched = p_matched[['action_taken', 'applicant_race', 'debt_to_income_ratio', 'loan_to_value_ratio', 'lien_status']]\n",
    "matched['log_income'] = np.log(p_matched['income'])\n",
    "sex = pd.get_dummies(p_matched['applicant_sex'], drop_first=True, prefix='sex')\n",
    "matched[sex.columns] = sex"
   ]
  },
  {
   "cell_type": "code",
   "execution_count": 10,
   "id": "e0a2758a",
   "metadata": {},
   "outputs": [],
   "source": [
    "# extract B and W in Matched data and remove pairs that have NaNs.\n",
    "matched_b = matched.iloc[0::2, :]\n",
    "matched_w = matched.iloc[1::2, :]\n",
    "drop_index = list(set(np.where(pd.isna(matched_w).sum(axis=1).values>0)[0]) | set(np.where(pd.isna(matched_b).sum(axis=1).values>0)[0]))\n",
    "matched_w = matched_w.drop(index=matched_w.index[drop_index])\n",
    "matched_b = matched_b.drop(index=matched_b.index[drop_index])\n",
    "matched_new = pd.concat((matched_w, matched_b))"
   ]
  },
  {
   "cell_type": "code",
   "execution_count": 11,
   "id": "0dfda69a",
   "metadata": {},
   "outputs": [],
   "source": [
    "n_w = matched_w.shape[0]\n",
    "n_b = matched_b.shape[0]"
   ]
  },
  {
   "cell_type": "code",
   "execution_count": null,
   "id": "66d8da81",
   "metadata": {},
   "outputs": [],
   "source": [
    "matched_new.iloc[[1, n_w+1], :]"
   ]
  },
  {
   "cell_type": "code",
   "execution_count": 12,
   "id": "deaa044b",
   "metadata": {},
   "outputs": [],
   "source": [
    "X_rf_matched = matched_new[['applicant_race', 'debt_to_income_ratio', 'loan_to_value_ratio', \n",
    "                     'lien_status','log_income','sex_2','sex_3','sex_6']]\n",
    "X_rf3 = deepcopy(X_rf_matched)\n",
    "X_rf3['applicant_race']=0\n",
    "y_rf3 = matched_new[['action_taken']]\n"
   ]
  },
  {
   "cell_type": "code",
   "execution_count": 13,
   "id": "00a621e2",
   "metadata": {},
   "outputs": [
    {
     "name": "stderr",
     "output_type": "stream",
     "text": [
      "<ipython-input-13-0139d744f6e2>:2: DataConversionWarning: A column-vector y was passed when a 1d array was expected. Please change the shape of y to (n_samples,), for example using ravel().\n",
      "  clf_rf3.fit(X_rf3, y_rf3)\n"
     ]
    },
    {
     "data": {
      "text/plain": [
       "RandomForestClassifier(random_state=0)"
      ]
     },
     "execution_count": 13,
     "metadata": {},
     "output_type": "execute_result"
    }
   ],
   "source": [
    "clf_rf3 = RandomForestClassifier(random_state=0)\n",
    "clf_rf3.fit(X_rf3, y_rf3)"
   ]
  },
  {
   "cell_type": "code",
   "execution_count": null,
   "id": "37ef8b51",
   "metadata": {
    "scrolled": true
   },
   "outputs": [],
   "source": [
    "X_rf_matched"
   ]
  },
  {
   "cell_type": "markdown",
   "id": "b500b339",
   "metadata": {},
   "source": [
    "### predicting approval probability using algorithms 1,2,3 "
   ]
  },
  {
   "cell_type": "code",
   "execution_count": 14,
   "id": "064a0cf9",
   "metadata": {},
   "outputs": [],
   "source": [
    "pred1 = clf_rf1.predict_proba(X_rf_matched)[:, 1]"
   ]
  },
  {
   "cell_type": "code",
   "execution_count": 15,
   "id": "5a98e263",
   "metadata": {},
   "outputs": [],
   "source": [
    "pred2 = clf_rf2.predict_proba(X_rf_matched)[:, 1]"
   ]
  },
  {
   "cell_type": "code",
   "execution_count": 16,
   "id": "15ce4c73",
   "metadata": {},
   "outputs": [],
   "source": [
    "pred3 = clf_rf3.predict_proba(X_rf_matched)[:, 1]"
   ]
  },
  {
   "cell_type": "markdown",
   "id": "40fea475",
   "metadata": {},
   "source": [
    "### plotting the histogram of approval probabilities for algorithm 1"
   ]
  },
  {
   "cell_type": "code",
   "execution_count": 17,
   "id": "644a9e43",
   "metadata": {},
   "outputs": [
    {
     "data": {
      "image/png": "[encoded data removed]",
      "text/plain": [
       "<Figure size 432x288 with 1 Axes>"
      ]
     },
     "metadata": {
      "needs_background": "light"
     },
     "output_type": "display_data"
    }
   ],
   "source": [
    "plt.hist(pred1[:n_w],bins=50)\n",
    "plt.hist(pred1[n_w:],bins=50,alpha=0.5)\n",
    "diff = (abs(pred1[:n_w]-pred1[n_w:])).mean()\n",
    "plt.legend(['White', 'Black'])\n",
    "plt.xlabel('Predicted Approval Probability')\n",
    "plt.title(f'Diff: {diff:.4f}')\n",
    "plt.tight_layout()\n",
    "plt.savefig('Approval_RF1.pdf')"
   ]
  },
  {
   "cell_type": "markdown",
   "id": "641f843a",
   "metadata": {},
   "source": [
    "### plotting the histogram of approval probabilities for algorithm 2"
   ]
  },
  {
   "cell_type": "code",
   "execution_count": 18,
   "id": "da3ad8cf",
   "metadata": {},
   "outputs": [
    {
     "data": {
      "image/png": "[encoded data removed]",
      "text/plain": [
       "<Figure size 432x288 with 1 Axes>"
      ]
     },
     "metadata": {
      "needs_background": "light"
     },
     "output_type": "display_data"
    }
   ],
   "source": [
    "plt.hist(pred2[:n_w],bins=50)\n",
    "plt.hist(pred2[n_w:],bins=50,alpha=0.5)\n",
    "diff = (abs(pred2[:n_w]-pred2[n_w:])).mean()\n",
    "plt.legend(['White', 'Black'])\n",
    "plt.xlabel('Predicted Approval Probability')\n",
    "plt.title(f'Diff: {diff:.4f}')\n",
    "plt.tight_layout()\n",
    "plt.savefig('Approval_RF2.pdf')"
   ]
  },
  {
   "cell_type": "markdown",
   "id": "edbd794d",
   "metadata": {},
   "source": [
    "### plotting the histogram of approval probabilities for algorithm 3"
   ]
  },
  {
   "cell_type": "code",
   "execution_count": 19,
   "id": "d6fb4bf2",
   "metadata": {},
   "outputs": [
    {
     "data": {
      "image/png": "[encoded data removed]",
      "text/plain": [
       "<Figure size 432x288 with 1 Axes>"
      ]
     },
     "metadata": {
      "needs_background": "light"
     },
     "output_type": "display_data"
    }
   ],
   "source": [
    "plt.hist(pred3[:n_w],bins=50)\n",
    "plt.hist(pred3[n_w:],bins=50,alpha=0.5)\n",
    "diff = (abs(pred3[:n_w]-pred3[n_w:])).mean()\n",
    "plt.legend(['White', 'Black'])\n",
    "plt.xlabel('Predicted Approval Probability')\n",
    "plt.title(f'Diff: {diff:.4f}')\n",
    "plt.tight_layout()\n",
    "plt.savefig('Approval_RF3.pdf')"
   ]
  },
  {
   "cell_type": "code",
   "execution_count": null,
   "id": "cf54582a",
   "metadata": {},
   "outputs": [],
   "source": []
  }
 ],
 "metadata": {
  "kernelspec": {
   "display_name": "Python 3",
   "language": "python",
   "name": "python3"
  },
  "language_info": {
   "codemirror_mode": {
    "name": "ipython",
    "version": 3
   },
   "file_extension": ".py",
   "mimetype": "text/x-python",
   "name": "python",
   "nbconvert_exporter": "python",
   "pygments_lexer": "ipython3",
   "version": "3.8.8"
  }
 },
 "nbformat": 4,
 "nbformat_minor": 5
}
