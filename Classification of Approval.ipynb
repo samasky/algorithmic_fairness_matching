{
 "cells": [
  {
   "cell_type": "code",
   "execution_count": 1,
   "metadata": {},
   "outputs": [],
   "source": [
    "from sklearn.linear_model import LogisticRegression\n",
    "from sklearn.ensemble import RandomForestClassifier\n",
    "from sklearn.neural_network import MLPClassifier\n",
    "from sklearn.svm import LinearSVC\n",
    "import numpy as np\n",
    "import pandas as pd\n",
    "import matplotlib.pyplot as plt\n",
    "%matplotlib inline\n",
    "from sklearn.metrics import roc_auc_score, plot_roc_curve\n",
    "from copy import deepcopy"
   ]
  },
  {
   "cell_type": "markdown",
   "metadata": {},
   "source": [
    "## Set the learning algorithm"
   ]
  },
  {
   "cell_type": "code",
   "execution_count": 2,
   "metadata": {},
   "outputs": [],
   "source": [
    "# ALGO = RandomForestClassifier\n",
    "# params = {'random_state': 110, 'max_depth': 5, 'verbose': 1, 'n_jobs': 4}\n",
    "# name = 'RF'\n",
    "\n",
    "# ALGO = LogisticRegression\n",
    "# params = {}\n",
    "# name = 'LR'\n",
    "\n",
    "ALGO = MLPClassifier\n",
    "params = {'random_state': 110, 'hidden_layer_sizes': (50, 50), 'early_stopping': True, 'verbose': 1}\n",
    "name = 'NN'"
   ]
  },
  {
   "cell_type": "markdown",
   "metadata": {},
   "source": [
    "## Load Data"
   ]
  },
  {
   "cell_type": "code",
   "execution_count": 3,
   "metadata": {},
   "outputs": [],
   "source": [
    "org_data = pd.read_pickle(r'data_org.pkl')\n",
    "p_matched = pd.read_pickle(r'matched_type.pkl')"
   ]
  },
  {
   "cell_type": "code",
   "execution_count": null,
   "metadata": {},
   "outputs": [],
   "source": [
    "p_matched"
   ]
  },
  {
   "cell_type": "markdown",
   "metadata": {},
   "source": [
    "## Handling missing values"
   ]
  },
  {
   "cell_type": "code",
   "execution_count": 4,
   "metadata": {},
   "outputs": [],
   "source": [
    "org_data['income'].fillna(71, inplace=True)\n",
    "org_data['loan_to_value_ratio'].fillna(93, inplace=True)\n",
    "org_data['debt_to_income_ratio'].fillna(41, inplace=True)\n",
    "p_matched['income'].fillna(56, inplace=True)\n",
    "p_matched['loan_to_value_ratio'].fillna(93, inplace=True)\n",
    "p_matched['debt_to_income_ratio'].fillna(44, inplace=True)"
   ]
  },
  {
   "cell_type": "markdown",
   "metadata": {},
   "source": [
    "## Dropping Rows with Missing Values"
   ]
  },
  {
   "cell_type": "code",
   "execution_count": 5,
   "metadata": {},
   "outputs": [],
   "source": [
    "p_matched = p_matched[['Unnamed: 0', 'action_taken','applicant_sex','income','applicant_race', 'state_code', 'loan_type',\n",
    "                                   'debt_to_income_ratio', 'loan_to_value_ratio', 'lien_status']]\n",
    "matched_b = p_matched.iloc[0::2, :]\n",
    "matched_w = p_matched.iloc[1::2, :]\n",
    "drop_index = list(set(np.where(pd.isna(matched_w).sum(axis=1).values>0)[0]) | set(np.where(pd.isna(matched_b).sum(axis=1).values>0)[0]))\n",
    "matched_w = matched_w.drop(index=matched_w.index[drop_index])\n",
    "matched_b = matched_b.drop(index=matched_b.index[drop_index])\n",
    "p_matched = pd.concat((matched_w, matched_b))"
   ]
  },
  {
   "cell_type": "code",
   "execution_count": 6,
   "metadata": {},
   "outputs": [],
   "source": [
    "org_data = org_data[['action_taken','applicant_sex','income','applicant_race', 'state_code', 'loan_type',\n",
    "                                   'debt_to_income_ratio', 'loan_to_value_ratio', 'lien_status']]\n",
    "org_data.dropna(inplace=True)"
   ]
  },
  {
   "cell_type": "markdown",
   "metadata": {},
   "source": [
    "## Train-Test Split"
   ]
  },
  {
   "cell_type": "code",
   "execution_count": 7,
   "metadata": {},
   "outputs": [],
   "source": [
    "ratio = 0.25\n",
    "n_w = p_matched.shape[0]//2\n",
    "n_test = int(ratio*n_w)\n",
    "index = np.random.permutation(n_w)\n",
    "test_ind = index[:n_test]\n",
    "train_ind = index[n_test:]\n",
    "\n",
    "match_test_w = p_matched.iloc[test_ind, :]\n",
    "match_test_b = p_matched.iloc[test_ind+n_w, :]\n",
    "match_train_w = p_matched.iloc[train_ind, :]\n",
    "match_train_b = p_matched.iloc[train_ind+n_w, :]\n",
    "match_test = pd.concat((match_test_w, match_test_b))\n",
    "match_train = pd.concat((match_train_w, match_train_b))\n",
    "test_ids = set(match_test['Unnamed: 0'].values)\n",
    "org_data = org_data[~org_data.index.isin(test_ids)]"
   ]
  },
  {
   "cell_type": "markdown",
   "metadata": {},
   "source": [
    "## Prepare the Original Data"
   ]
  },
  {
   "cell_type": "code",
   "execution_count": 8,
   "metadata": {},
   "outputs": [
    {
     "name": "stderr",
     "output_type": "stream",
     "text": [
      "<ipython-input-8-e161b4e3e7be>:2: SettingWithCopyWarning: \n",
      "A value is trying to be set on a copy of a slice from a DataFrame.\n",
      "Try using .loc[row_indexer,col_indexer] = value instead\n",
      "\n",
      "See the caveats in the documentation: https://pandas.pydata.org/pandas-docs/stable/user_guide/indexing.html#returning-a-view-versus-a-copy\n",
      "  X_lr['log_income'] = np.log(org_data['income'])\n",
      "/opt/anaconda3/lib/python3.8/site-packages/pandas/core/frame.py:3191: SettingWithCopyWarning: \n",
      "A value is trying to be set on a copy of a slice from a DataFrame.\n",
      "Try using .loc[row_indexer,col_indexer] = value instead\n",
      "\n",
      "See the caveats in the documentation: https://pandas.pydata.org/pandas-docs/stable/user_guide/indexing.html#returning-a-view-versus-a-copy\n",
      "  self[k1] = value[k2]\n"
     ]
    }
   ],
   "source": [
    "X_lr = org_data[['applicant_race', 'debt_to_income_ratio', 'loan_to_value_ratio', 'lien_status']]\n",
    "X_lr['log_income'] = np.log(org_data['income'])\n",
    "sex = pd.get_dummies(org_data['applicant_sex'], drop_first=True, prefix='sex')\n",
    "X_lr[sex.columns] = sex\n",
    "state = pd.get_dummies(org_data['state_code'], drop_first=True, prefix='state')\n",
    "X_lr[state.columns] = state\n",
    "ltype = pd.get_dummies(org_data['loan_type'], drop_first=True, prefix='type')\n",
    "X_lr[ltype.columns] = ltype\n",
    "y_lr = org_data['action_taken']"
   ]
  },
  {
   "cell_type": "markdown",
   "metadata": {},
   "source": [
    "### Algorithm 1: Use all features and train a Regression algorithm on *Original data*"
   ]
  },
  {
   "cell_type": "code",
   "execution_count": null,
   "metadata": {},
   "outputs": [],
   "source": [
    "reg1 = ALGO(**params).fit(X_lr, y_lr)"
   ]
  },
  {
   "cell_type": "markdown",
   "metadata": {},
   "source": [
    "### Algorithm 2: Don't use *Race* and train another Linear Regression on *Original data*"
   ]
  },
  {
   "cell_type": "code",
   "execution_count": null,
   "metadata": {},
   "outputs": [],
   "source": [
    "X_lr2 = deepcopy(X_lr)\n",
    "X_lr2['applicant_race']=0"
   ]
  },
  {
   "cell_type": "code",
   "execution_count": null,
   "metadata": {},
   "outputs": [],
   "source": [
    "reg2 = ALGO(**params).fit(X_lr2,y_lr)"
   ]
  },
  {
   "cell_type": "markdown",
   "metadata": {},
   "source": [
    "### Algorithm 3: Don't use *Race* and train another Linear Regression on *Matched Data*"
   ]
  },
  {
   "cell_type": "code",
   "execution_count": 9,
   "metadata": {},
   "outputs": [
    {
     "name": "stderr",
     "output_type": "stream",
     "text": [
      "<ipython-input-9-aabcfd80f03f>:3: SettingWithCopyWarning: \n",
      "A value is trying to be set on a copy of a slice from a DataFrame.\n",
      "Try using .loc[row_indexer,col_indexer] = value instead\n",
      "\n",
      "See the caveats in the documentation: https://pandas.pydata.org/pandas-docs/stable/user_guide/indexing.html#returning-a-view-versus-a-copy\n",
      "  X_lr_matched['log_income'] = np.log(p_matched['income'])\n"
     ]
    }
   ],
   "source": [
    "# Training data\n",
    "X_lr_matched = match_train[['applicant_race', 'debt_to_income_ratio', 'loan_to_value_ratio', 'lien_status']]\n",
    "X_lr_matched['log_income'] = np.log(p_matched['income'])\n",
    "sex = pd.get_dummies(match_train['applicant_sex'], drop_first=True, prefix='sex')\n",
    "X_lr_matched[sex.columns] = sex\n",
    "state = pd.get_dummies(match_train['state_code'], drop_first=True, prefix='state')\n",
    "X_lr_matched[state.columns] = state\n",
    "ltype = pd.get_dummies(match_train['loan_type'], drop_first=True, prefix='type')\n",
    "X_lr_matched[ltype.columns] = ltype\n",
    "y_lr_matched = match_train['action_taken']"
   ]
  },
  {
   "cell_type": "code",
   "execution_count": 10,
   "metadata": {},
   "outputs": [
    {
     "name": "stderr",
     "output_type": "stream",
     "text": [
      "<ipython-input-10-fe27bedeb67e>:3: SettingWithCopyWarning: \n",
      "A value is trying to be set on a copy of a slice from a DataFrame.\n",
      "Try using .loc[row_indexer,col_indexer] = value instead\n",
      "\n",
      "See the caveats in the documentation: https://pandas.pydata.org/pandas-docs/stable/user_guide/indexing.html#returning-a-view-versus-a-copy\n",
      "  X_test['log_income'] = np.log(match_test['income'])\n"
     ]
    }
   ],
   "source": [
    "# Test data\n",
    "X_test = match_test[['applicant_race', 'debt_to_income_ratio', 'loan_to_value_ratio', 'lien_status']]\n",
    "X_test['log_income'] = np.log(match_test['income'])\n",
    "sex = pd.get_dummies(match_test['applicant_sex'], drop_first=True, prefix='sex')\n",
    "X_test[sex.columns] = sex\n",
    "state = pd.get_dummies(match_test['state_code'], drop_first=True, prefix='state')\n",
    "X_test[state.columns] = state\n",
    "ltype = pd.get_dummies(match_test['loan_type'], drop_first=True, prefix='type')\n",
    "X_test[ltype.columns] = ltype\n",
    "y_test = match_test['action_taken']"
   ]
  },
  {
   "cell_type": "code",
   "execution_count": 11,
   "metadata": {},
   "outputs": [],
   "source": [
    "X_lr3 = deepcopy(X_lr_matched)\n",
    "X_lr3['applicant_race']=0"
   ]
  },
  {
   "cell_type": "code",
   "execution_count": null,
   "metadata": {},
   "outputs": [],
   "source": [
    "reg3 = ALGO(**params).fit(X_lr3, y_lr_matched)"
   ]
  },
  {
   "cell_type": "markdown",
   "metadata": {},
   "source": [
    "### Algorithm 4: Swap the labels"
   ]
  },
  {
   "cell_type": "code",
   "execution_count": 12,
   "metadata": {},
   "outputs": [],
   "source": [
    "n_w_train = y_lr_matched.shape[0]//2\n",
    "swaps_w = (np.random.uniform(0, 1, n_w_train) > 0.5).astype(int)\n",
    "swaps_b = 1 - swaps_w\n",
    "y_lr_matched = y_lr_matched.values\n",
    "y_w = y_lr_matched[:n_w_train]*swaps_w + y_lr_matched[n_w_train:]*swaps_b\n",
    "y_b = y_lr_matched[:n_w_train]*swaps_b + y_lr_matched[n_w_train:]*swaps_w\n",
    "y_swap = np.concatenate((y_w, y_b))"
   ]
  },
  {
   "cell_type": "code",
   "execution_count": 20,
   "metadata": {},
   "outputs": [
    {
     "name": "stdout",
     "output_type": "stream",
     "text": [
      "Iteration 1, loss = 0.69057247\n",
      "Validation score: 0.853113\n",
      "Iteration 2, loss = 0.68471456\n",
      "Validation score: 0.760112\n",
      "Iteration 3, loss = 0.63041436\n",
      "Validation score: 0.849288\n",
      "Iteration 4, loss = 0.55457373\n",
      "Validation score: 0.853584\n",
      "Iteration 5, loss = 1.15498141\n",
      "Validation score: 0.730354\n",
      "Iteration 6, loss = 0.81858459\n",
      "Validation score: 0.655557\n",
      "Iteration 7, loss = 0.62676471\n",
      "Validation score: 0.847267\n",
      "Iteration 8, loss = 0.72253394\n",
      "Validation score: 0.843148\n",
      "Iteration 9, loss = 0.68616202\n",
      "Validation score: 0.848601\n",
      "Iteration 10, loss = 0.53734795\n",
      "Validation score: 0.857213\n",
      "Iteration 11, loss = 0.55573591\n",
      "Validation score: 0.848778\n",
      "Iteration 12, loss = 0.58234519\n",
      "Validation score: 0.856369\n",
      "Iteration 13, loss = 0.39182368\n",
      "Validation score: 0.859861\n",
      "Iteration 14, loss = 0.41184583\n",
      "Validation score: 0.860312\n",
      "Iteration 15, loss = 0.50471396\n",
      "Validation score: 0.857978\n",
      "Iteration 16, loss = 0.40582058\n",
      "Validation score: 0.859802\n",
      "Iteration 17, loss = 0.41421197\n",
      "Validation score: 0.857468\n",
      "Iteration 18, loss = 0.41679204\n",
      "Validation score: 0.858488\n",
      "Iteration 19, loss = 0.46749064\n",
      "Validation score: 0.855036\n",
      "Iteration 20, loss = 0.38855371\n",
      "Validation score: 0.859645\n",
      "Iteration 21, loss = 0.42357691\n",
      "Validation score: 0.858782\n",
      "Iteration 22, loss = 0.43079481\n",
      "Validation score: 0.687905\n",
      "Iteration 23, loss = 0.52887206\n",
      "Validation score: 0.860607\n",
      "Iteration 24, loss = 0.49398356\n",
      "Validation score: 0.852583\n",
      "Iteration 25, loss = 0.49772840\n",
      "Validation score: 0.860587\n",
      "Iteration 26, loss = 0.58715833\n",
      "Validation score: 0.858390\n",
      "Iteration 27, loss = 0.66010471\n",
      "Validation score: 0.856664\n",
      "Iteration 28, loss = 0.56782201\n",
      "Validation score: 0.854388\n",
      "Iteration 29, loss = 0.39166312\n",
      "Validation score: 0.863686\n",
      "Iteration 30, loss = 0.41192379\n",
      "Validation score: 0.858154\n",
      "Iteration 31, loss = 0.50348462\n",
      "Validation score: 0.808113\n",
      "Iteration 32, loss = 0.44921722\n",
      "Validation score: 0.861999\n",
      "Iteration 33, loss = 0.42780568\n",
      "Validation score: 0.862902\n",
      "Iteration 34, loss = 0.44635836\n",
      "Validation score: 0.861195\n",
      "Iteration 35, loss = 0.47357106\n",
      "Validation score: 0.856585\n",
      "Iteration 36, loss = 0.55881933\n",
      "Validation score: 0.855879\n",
      "Iteration 37, loss = 0.42564010\n",
      "Validation score: 0.860057\n",
      "Iteration 38, loss = 0.52664422\n",
      "Validation score: 0.827435\n",
      "Iteration 39, loss = 0.50437996\n",
      "Validation score: 0.817353\n",
      "Iteration 40, loss = 0.52165987\n",
      "Validation score: 0.854388\n",
      "Validation score did not improve more than tol=0.000100 for 10 consecutive epochs. Stopping.\n"
     ]
    }
   ],
   "source": [
    "reg4 = ALGO(**params).fit(X_lr3, y_swap)"
   ]
  },
  {
   "cell_type": "markdown",
   "metadata": {},
   "source": [
    "## Predicting Interest Rate using algorithms 1,2,3 "
   ]
  },
  {
   "cell_type": "code",
   "execution_count": 21,
   "metadata": {},
   "outputs": [],
   "source": [
    "n_w_test = X_test.shape[0]//2"
   ]
  },
  {
   "cell_type": "code",
   "execution_count": 22,
   "metadata": {},
   "outputs": [],
   "source": [
    "pred1 = reg1.predict_proba(X_test)[:, 1]\n",
    "pred2 = reg2.predict_proba(X_test)[:, 1]\n",
    "pred3 = reg3.predict_proba(X_test)[:, 1]\n",
    "pred4 = reg4.predict_proba(X_test)[:, 1]"
   ]
  },
  {
   "cell_type": "markdown",
   "metadata": {},
   "source": [
    "## Evaluating Accuracy"
   ]
  },
  {
   "cell_type": "code",
   "execution_count": 23,
   "metadata": {},
   "outputs": [
    {
     "name": "stdout",
     "output_type": "stream",
     "text": [
      "Algorithm 4 Test AUC: 0.768\n"
     ]
    }
   ],
   "source": [
    "# Overall accuracy\n",
    "print(f\"Algorithm 1 Test AUC: {roc_auc_score(y_test, pred1):.3f}\")\n",
    "print(f\"Algorithm 2 Test AUC: {roc_auc_score(y_test, pred2):.3f}\")\n",
    "print(f\"Algorithm 3 Test AUC: {roc_auc_score(y_test, pred3):.3f}\")\n",
    "print(f\"Algorithm 4 Test AUC: {roc_auc_score(y_test, pred4):.3f}\")"
   ]
  },
  {
   "cell_type": "code",
   "execution_count": 24,
   "metadata": {},
   "outputs": [
    {
     "name": "stdout",
     "output_type": "stream",
     "text": [
      "Algorithm 4 Test AUC: 0.794\n"
     ]
    }
   ],
   "source": [
    "# Accuracy among whites\n",
    "print(f\"Algorithm 1 Test AUC: {roc_auc_score(y_test[:n_w_test], pred1[:n_w_test]):.3f}\")\n",
    "print(f\"Algorithm 2 Test AUC: {roc_auc_score(y_test[:n_w_test], pred2[:n_w_test]):.3f}\")\n",
    "print(f\"Algorithm 3 Test AUC: {roc_auc_score(y_test[:n_w_test], pred3[:n_w_test]):.3f}\")\n",
    "print(f\"Algorithm 4 Test AUC: {roc_auc_score(y_test[:n_w_test], pred4[:n_w_test]):.3f}\")"
   ]
  },
  {
   "cell_type": "code",
   "execution_count": 25,
   "metadata": {},
   "outputs": [
    {
     "name": "stdout",
     "output_type": "stream",
     "text": [
      "Algorithm 4 Test AUC: 0.749\n"
     ]
    }
   ],
   "source": [
    "# Accuracy among blacks\n",
    "print(f\"Algorithm 1 Test AUC: {roc_auc_score(y_test[n_w_test:], pred1[n_w_test:]):.3f}\")\n",
    "print(f\"Algorithm 2 Test AUC: {roc_auc_score(y_test[n_w_test:], pred2[n_w_test:]):.3f}\")\n",
    "print(f\"Algorithm 3 Test AUC: {roc_auc_score(y_test[n_w_test:], pred3[n_w_test:]):.3f}\")\n",
    "print(f\"Algorithm 4 Test AUC: {roc_auc_score(y_test[n_w_test:], pred4[n_w_test:]):.3f}\")"
   ]
  },
  {
   "cell_type": "markdown",
   "metadata": {},
   "source": [
    "## Evaluating Fairness"
   ]
  },
  {
   "cell_type": "markdown",
   "metadata": {},
   "source": [
    "### Histogram of Interest Rate for algorithm 1"
   ]
  },
  {
   "cell_type": "code",
   "execution_count": null,
   "metadata": {},
   "outputs": [],
   "source": [
    "plt.hist(pred1[:n_w_test],bins=50, density=True)\n",
    "plt.hist(pred1[n_w_test:],bins=50,alpha=0.5, density=True)\n",
    "diff = (abs(pred1[:n_w_test]-pred1[n_w_test:])).mean()\n",
    "plt.legend(['White', 'Black'])\n",
    "plt.xlabel('Predicted Approval Probability')\n",
    "plt.title(f'CFU: {diff:.4f}')\n",
    "plt.tight_layout()\n",
    "plt.savefig(f'Approval_Rate_{name}1.pdf')"
   ]
  },
  {
   "cell_type": "markdown",
   "metadata": {},
   "source": [
    "### Histogram of Interest Rate for algorithm 2"
   ]
  },
  {
   "cell_type": "code",
   "execution_count": null,
   "metadata": {},
   "outputs": [],
   "source": [
    "plt.hist(pred2[:n_w_test],bins=50, density=True)\n",
    "plt.hist(pred2[n_w_test:],bins=50,alpha=0.5, density=True)\n",
    "diff = (abs(pred2[:n_w_test]-pred2[n_w_test:])).mean()\n",
    "plt.legend(['White', 'Black'])\n",
    "plt.xlabel('Predicted Approval Probability')\n",
    "plt.title(f'CFU: {diff:.4f}')\n",
    "plt.tight_layout()\n",
    "plt.savefig(f'Approval_Rate_{name}2.pdf')"
   ]
  },
  {
   "cell_type": "markdown",
   "metadata": {},
   "source": [
    "### Histogram of Interest Rate for algorithm 3"
   ]
  },
  {
   "cell_type": "code",
   "execution_count": null,
   "metadata": {},
   "outputs": [],
   "source": [
    "plt.hist(pred3[:n_w_test],bins=50, density=True)\n",
    "plt.hist(pred3[n_w_test:],bins=50,alpha=0.5, density=True)\n",
    "diff = (abs(pred3[:n_w_test]-pred3[n_w_test:])).mean()\n",
    "plt.legend(['White', 'Black'])\n",
    "plt.xlabel('Predicted Approval Probability')\n",
    "plt.title(f'CFU: {diff:.4f}')\n",
    "plt.tight_layout()\n",
    "plt.savefig(f'Approval_Rate_{name}3.pdf')"
   ]
  },
  {
   "cell_type": "markdown",
   "metadata": {},
   "source": [
    "### Histogram of Interest Rate for algorithm 4"
   ]
  },
  {
   "cell_type": "code",
   "execution_count": 26,
   "metadata": {},
   "outputs": [
    {
     "data": {
      "image/png": "[encoded data removed]",
      "text/plain": [
       "<Figure size 432x288 with 1 Axes>"
      ]
     },
     "metadata": {
      "needs_background": "light"
     },
     "output_type": "display_data"
    }
   ],
   "source": [
    "plt.hist(pred4[:n_w_test],bins=50, density=True)\n",
    "plt.hist(pred4[n_w_test:],bins=50,alpha=0.5, density=True)\n",
    "diff = (abs(pred4[:n_w_test]-pred4[n_w_test:])).mean()\n",
    "plt.legend(['White', 'Black'])\n",
    "plt.xlabel('Predicted Approval Probability')\n",
    "plt.title(f'CFU: {diff:.4f}')\n",
    "plt.tight_layout()\n",
    "plt.savefig(f'Approval_Rate_{name}4.pdf')"
   ]
  },
  {
   "cell_type": "code",
   "execution_count": null,
   "metadata": {},
   "outputs": [],
   "source": []
  }
 ],
 "metadata": {
  "kernelspec": {
   "display_name": "Python 3",
   "language": "python",
   "name": "python3"
  },
  "language_info": {
   "codemirror_mode": {
    "name": "ipython",
    "version": 3
   },
   "file_extension": ".py",
   "mimetype": "text/x-python",
   "name": "python",
   "nbconvert_exporter": "python",
   "pygments_lexer": "ipython3",
   "version": "3.7.4"
  }
 },
 "nbformat": 4,
 "nbformat_minor": 5
}
